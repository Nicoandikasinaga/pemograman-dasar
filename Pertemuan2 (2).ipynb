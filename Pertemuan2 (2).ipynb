{
  "nbformat": 4,
  "nbformat_minor": 0,
  "metadata": {
    "colab": {
      "provenance": [],
      "authorship_tag": "ABX9TyPyQWfx4fb/D6AP0YAEetAW",
      "include_colab_link": true
    },
    "kernelspec": {
      "name": "python3",
      "display_name": "Python 3"
    },
    "language_info": {
      "name": "python"
    }
  },
  "cells": [
    {
      "cell_type": "markdown",
      "metadata": {
        "id": "view-in-github",
        "colab_type": "text"
      },
      "source": [
        "<a href=\"https://colab.research.google.com/github/Nicoandikasinaga/pemograman-dasar/blob/main/Pertemuan2%20(2).ipynb\" target=\"_parent\"><img src=\"https://colab.research.google.com/assets/colab-badge.svg\" alt=\"Open In Colab\"/></a>"
      ]
    },
    {
      "cell_type": "code",
      "execution_count": null,
      "metadata": {
        "id": "LFe26eTuZf6N"
      },
      "outputs": [],
      "source": [
        "# deklarasi variable list\n",
        "numbers = [23, 43, 15, 54]\n",
        "# cara mengakses elemen dalam variable list\n",
        "numbers[0] # 23\n",
        "numbers[1] # 43\n",
        "numbers[2] # 15\n",
        "numbers[3] # 54\n",
        "# cara mengubah nilai elemen dalam variable list\n",
        "numbers[2] # 51\n",
        "numbers[2] # 51\n",
        "\n",
        "print (numbers [0])\n",
        "print (numbers [1])\n",
        "print (numbers [2])\n",
        "print (numbers [3])\n",
        "print (numbers)"
      ]
    },
    {
      "cell_type": "code",
      "source": [
        "firstName = \"Nico\"\n",
        "lastName = \"Andika Sinaga\"\n",
        "age = 19\n",
        "isMarried= False\n",
        "\n",
        "\n",
        "print(\"First Name :\", firstName)\n",
        "print(\"Last Name  :\", lastName)\n",
        "print(\"Age        :\", age)\n",
        "print(\"Married    :\", isMarried)"
      ],
      "metadata": {
        "colab": {
          "base_uri": "https://localhost:8080/"
        },
        "id": "48GySLAoteoz",
        "outputId": "4d39e9a5-43d7-4cdb-fd68-e4495b724ec8"
      },
      "execution_count": 1,
      "outputs": [
        {
          "output_type": "stream",
          "name": "stdout",
          "text": [
            "First Name : Nico\n",
            "Last Name  : Andika Sinaga\n",
            "Age        : 19\n",
            "Married    : False\n"
          ]
        }
      ]
    },
    {
      "cell_type": "code",
      "source": [
        "data_diri = {\n",
        "    \"firstName\": \"Nico\",\n",
        "    \"lastName\" : \"Andika sinaga\",\n",
        "    \"age\" : 19,\n",
        "    \"isMarried\" : False\n",
        "}\n",
        "\n",
        "\n",
        "print(\"Personal Data:\")\n",
        "print(\"First Name :\", data_diri[\"firstName\"])\n",
        "print(\"Last Name:\", data_diri[\"lastName\"])\n",
        "print(\"Age:\", data_diri[\"age\"])\n",
        "print(\"Married:\", data_diri[\"isMarried\"])"
      ],
      "metadata": {
        "colab": {
          "base_uri": "https://localhost:8080/"
        },
        "id": "44oNsmzFuB5D",
        "outputId": "2fb28d04-ef40-406f-9988-52db09dd2036"
      },
      "execution_count": 2,
      "outputs": [
        {
          "output_type": "stream",
          "name": "stdout",
          "text": [
            "Personal Data:\n",
            "First Name : Nico\n",
            "Last Name: Andika sinaga\n",
            "Age: 19\n",
            "Married: False\n"
          ]
        }
      ]
    }
  ]
}