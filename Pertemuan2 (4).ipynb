{
  "nbformat": 4,
  "nbformat_minor": 0,
  "metadata": {
    "colab": {
      "provenance": [],
      "authorship_tag": "ABX9TyMfNhqF3Nqhfa2qiJqlkfw8",
      "include_colab_link": true
    },
    "kernelspec": {
      "name": "python3",
      "display_name": "Python 3"
    },
    "language_info": {
      "name": "python"
    }
  },
  "cells": [
    {
      "cell_type": "markdown",
      "metadata": {
        "id": "view-in-github",
        "colab_type": "text"
      },
      "source": [
        "<a href=\"https://colab.research.google.com/github/Nicoandikasinaga/pemograman-dasar/blob/main/Pertemuan2%20(4).ipynb\" target=\"_parent\"><img src=\"https://colab.research.google.com/assets/colab-badge.svg\" alt=\"Open In Colab\"/></a>"
      ]
    },
    {
      "cell_type": "code",
      "execution_count": null,
      "metadata": {
        "id": "LFe26eTuZf6N"
      },
      "outputs": [],
      "source": [
        "# deklarasi variable list\n",
        "numbers = [23, 43, 15, 54]\n",
        "# cara mengakses elemen dalam variable list\n",
        "numbers[0] # 23\n",
        "numbers[1] # 43\n",
        "numbers[2] # 15\n",
        "numbers[3] # 54\n",
        "# cara mengubah nilai elemen dalam variable list\n",
        "numbers[2] # 51\n",
        "numbers[2] # 51\n",
        "\n",
        "print (numbers [0])\n",
        "print (numbers [1])\n",
        "print (numbers [2])\n",
        "print (numbers [3])\n",
        "print (numbers)"
      ]
    },
    {
      "cell_type": "code",
      "source": [
        "firstName = \"Nico\"\n",
        "lastName = \"Andika Sinaga\"\n",
        "age = 19\n",
        "isMarried= False\n",
        "\n",
        "\n",
        "print(\"First Name :\", firstName)\n",
        "print(\"Last Name  :\", lastName)\n",
        "print(\"Age        :\", age)\n",
        "print(\"Married    :\", isMarried)"
      ],
      "metadata": {
        "colab": {
          "base_uri": "https://localhost:8080/"
        },
        "id": "48GySLAoteoz",
        "outputId": "4d39e9a5-43d7-4cdb-fd68-e4495b724ec8"
      },
      "execution_count": 1,
      "outputs": [
        {
          "output_type": "stream",
          "name": "stdout",
          "text": [
            "First Name : Nico\n",
            "Last Name  : Andika Sinaga\n",
            "Age        : 19\n",
            "Married    : False\n"
          ]
        }
      ]
    },
    {
      "cell_type": "code",
      "source": [
        "data_diri = {\n",
        "    \"firstName\": \"Nico\",\n",
        "    \"lastName\" : \"Andika sinaga\",\n",
        "    \"age\" : 19,\n",
        "    \"isMarried\" : False\n",
        "}\n",
        "\n",
        "\n",
        "print(\"Personal Data:\")\n",
        "print(\"First Name :\", data_diri[\"firstName\"])\n",
        "print(\"Last Name:\", data_diri[\"lastName\"])\n",
        "print(\"Age:\", data_diri[\"age\"])\n",
        "print(\"Married:\", data_diri[\"isMarried\"])"
      ],
      "metadata": {
        "colab": {
          "base_uri": "https://localhost:8080/"
        },
        "id": "44oNsmzFuB5D",
        "outputId": "2fb28d04-ef40-406f-9988-52db09dd2036"
      },
      "execution_count": 2,
      "outputs": [
        {
          "output_type": "stream",
          "name": "stdout",
          "text": [
            "Personal Data:\n",
            "First Name : Nico\n",
            "Last Name: Andika sinaga\n",
            "Age: 19\n",
            "Married: False\n"
          ]
        }
      ]
    },
    {
      "cell_type": "code",
      "source": [
        "inspeksi = [\n",
        "    \"pemahaman terhadap rencana dan desain\",\n",
        "    \"ketersediaan bahan dan peralatan\",\n",
        "    \"pengawasan pekerjaan\",\n",
        "    \"kualitas kontruksi\",\n",
        "    \"keselamatan kerja\",\n",
        "    \"koordinasi dengan pemilik proyek\"\n",
        "]\n",
        "\n",
        "\n",
        "print(\"Daftar Inspeksi:\")\n",
        "for item in inspeksi:\n",
        "  print(\"_\", item)"
      ],
      "metadata": {
        "colab": {
          "base_uri": "https://localhost:8080/"
        },
        "id": "kUZl2ABVukV8",
        "outputId": "74cfec44-df94-458b-d062-4f67197f4f02"
      },
      "execution_count": 3,
      "outputs": [
        {
          "output_type": "stream",
          "name": "stdout",
          "text": [
            "Daftar Inspeksi:\n",
            "_ pemahaman terhadap rencana dan desain\n",
            "_ ketersediaan bahan dan peralatan\n",
            "_ pengawasan pekerjaan\n",
            "_ kualitas kontruksi\n",
            "_ keselamatan kerja\n",
            "_ koordinasi dengan pemilik proyek\n"
          ]
        }
      ]
    },
    {
      "cell_type": "code",
      "source": [
        "startTime = {\n",
        "    \"HH\": 9,\n",
        "    \"mm\": 23,\n",
        "    \"ss\": 57\n",
        "}\n",
        "\n",
        "\n",
        "endTime =  {\n",
        "    \"HH\": 15,\n",
        "    \"mm\": 23,\n",
        "    \"ss\": 43\n",
        "}\n",
        "\n",
        "\n",
        "print(\"Waktu Datang (Start Time):\", startTime)\n",
        "print(\"Waktu Pulang (endTime):\", endTime)\n"
      ],
      "metadata": {
        "colab": {
          "base_uri": "https://localhost:8080/"
        },
        "id": "LuW9ROW0u3Hg",
        "outputId": "ca659fff-cf6c-43a9-927a-7aaa054913e5"
      },
      "execution_count": 4,
      "outputs": [
        {
          "output_type": "stream",
          "name": "stdout",
          "text": [
            "Waktu Datang (Start Time): {'HH': 9, 'mm': 23, 'ss': 57}\n",
            "Waktu Pulang (endTime): {'HH': 15, 'mm': 23, 'ss': 43}\n"
          ]
        }
      ]
    }
  ]
}