{
  "nbformat": 4,
  "nbformat_minor": 0,
  "metadata": {
    "colab": {
      "provenance": [],
      "authorship_tag": "ABX9TyNJXWwO10em35mt8DAkwVMo",
      "include_colab_link": true
    },
    "kernelspec": {
      "name": "python3",
      "display_name": "Python 3"
    },
    "language_info": {
      "name": "python"
    }
  },
  "cells": [
    {
      "cell_type": "markdown",
      "metadata": {
        "id": "view-in-github",
        "colab_type": "text"
      },
      "source": [
        "<a href=\"https://colab.research.google.com/github/Nicoandikasinaga/pemograman-dasar/blob/main/Pertemuan4.ipynb\" target=\"_parent\"><img src=\"https://colab.research.google.com/assets/colab-badge.svg\" alt=\"Open In Colab\"/></a>"
      ]
    },
    {
      "cell_type": "code",
      "execution_count": 26,
      "metadata": {
        "colab": {
          "base_uri": "https://localhost:8080/"
        },
        "id": "CAwncseoUxig",
        "outputId": "8629f615-a8d4-461f-bf31-b9c1aa501f48"
      },
      "outputs": [
        {
          "output_type": "stream",
          "name": "stdout",
          "text": [
            "Pengunjung adalah orang dewasa.\n"
          ]
        }
      ],
      "source": [
        "# Variabel untuk menyimpan umur pengunjung\n",
        "umur: int = 19\n",
        "\n",
        "# Program akan hanya mencetak pesan jika umur diatas 17\n",
        "if umur > 17:\n",
        "    print(\"Pengunjung adalah orang dewasa.\")"
      ]
    },
    {
      "cell_type": "code",
      "source": [
        "username = input(\"Masukkan username: \")\n",
        "password = input(\"Masukkan password: \")\n",
        "\n",
        "if username == \"nico\" and password == \"nico1234\":\n",
        "    print(\"Login berhasil\")\n",
        "else:\n",
        "    print(\"Login gagal\")"
      ],
      "metadata": {
        "colab": {
          "base_uri": "https://localhost:8080/"
        },
        "id": "Qk31J-Sve8mu",
        "outputId": "37074de5-4c9e-4b69-b4be-be0926e10423"
      },
      "execution_count": 27,
      "outputs": [
        {
          "output_type": "stream",
          "name": "stdout",
          "text": [
            "Masukkan username: nico\n",
            "Masukkan password: nico1234\n",
            "Login berhasil\n"
          ]
        }
      ]
    },
    {
      "cell_type": "code",
      "source": [
        "# Program untuk mengecek bonus dan diskon\n",
        "total_belanja = input(\"Masukkan total belanja: Rp. \")\n",
        "\n",
        "# Konversi ke integer\n",
        "total_belanja_int = int(total_belanja)\n",
        "bayar = total_belanja_int\n",
        "\n",
        "# Jika dia belanja di atas 100rb maka berikut bonus dan diskon\n",
        "if total_belanja_int > 100000:\n",
        "    print(\"Selamat Karena Belanja > Rp. 100.000 anda mendapat Voucher Makan\")\n",
        "    print(\"dan diskon 5%\")\n",
        "\n",
        "    # hitung diskonnya\n",
        "    diskon = total_belanja_int * 5/100  # 5%\n",
        "    bayar = total_belanja_int - diskon\n",
        "else:\n",
        "    print(\"Terima kasih sudah berbelanja di Toko Kami\")\n",
        "\n",
        "# cetak struk\n",
        "print(\"Total yang harus di bayar: Rp %s\" % bayar)\n",
        "print(\"Terima kasih karena sudah berbelanja di Toko Kami\")\n",
        "print(\"Kami Tunggu Kunjungan anda selanjutnya.\")"
      ],
      "metadata": {
        "id": "km60FwzhfFSl",
        "colab": {
          "base_uri": "https://localhost:8080/"
        },
        "outputId": "9d4f0187-816c-4022-8b3e-6b1d0375c02c"
      },
      "execution_count": 5,
      "outputs": [
        {
          "output_type": "stream",
          "name": "stdout",
          "text": [
            "Masukkan total belanja: Rp. 150000\n",
            "Selamat Karena Belanja > Rp. 100.000 anda mendapat Voucher Makan\n",
            "dan diskon 5%\n",
            "Total yang harus di bayar: Rp 142500.0\n",
            "Terima kasih karena sudah berbelanja di Toko Kami\n",
            "Kami Tunggu Kunjungan anda selanjutnya.\n"
          ]
        }
      ]
    },
    {
      "cell_type": "code",
      "source": [
        "# Variabel untuk memeriksa apakah ada notifikasi baru\n",
        "ada_notifikasi_baru: bool = True\n",
        "\n",
        "if ada_notifikasi_baru:\n",
        "    print(\"Anda memiliki pesan baru!\")"
      ],
      "metadata": {
        "colab": {
          "base_uri": "https://localhost:8080/"
        },
        "id": "KwVTl-tKlAVm",
        "outputId": "67c10fb0-5ca3-46d8-ba98-3506429e591b"
      },
      "execution_count": null,
      "outputs": [
        {
          "output_type": "stream",
          "name": "stdout",
          "text": [
            "Anda memiliki pesan baru!\n"
          ]
        }
      ]
    },
    {
      "cell_type": "code",
      "source": [
        "umur = input(\"Berapa umur kamu: \")\n",
        "if int(umur) >= 18:\n",
        "  print(\"Kamu boleh membuat SIM\")\n",
        "else:\n",
        "  print(\"Kamu belum boleh membuat SIM\")"
      ],
      "metadata": {
        "colab": {
          "base_uri": "https://localhost:8080/"
        },
        "id": "tmno2jyW7eDq",
        "outputId": "7939efc5-266a-4a81-cc5c-73baa424b5f6"
      },
      "execution_count": 6,
      "outputs": [
        {
          "output_type": "stream",
          "name": "stdout",
          "text": [
            "Berapa umur kamu: 19\n",
            "Kamu boleh membuat SIM\n"
          ]
        }
      ]
    },
    {
      "cell_type": "code",
      "source": [
        "# Asumsikan total belanja diatas 20rb\n",
        "total_belanja = 25000\n",
        "\n",
        "if total_belanja > 20000:\n",
        "    diskon = total_belanja * 0.10\n",
        "    total_bayar = total_belanja - diskon\n",
        "    print(f\"Anda mendapat diskon! Total bayar: Rp {total_bayar}\")\n",
        "else:\n",
        "    print(f\"Total bayar: Rp {total_belanja}\")"
      ],
      "metadata": {
        "colab": {
          "base_uri": "https://localhost:8080/"
        },
        "id": "w7x3Qedw8SvN",
        "outputId": "8715ddc1-5e00-402a-80c2-6e0944dd1853"
      },
      "execution_count": 12,
      "outputs": [
        {
          "output_type": "stream",
          "name": "stdout",
          "text": [
            "Anda mendapat diskon! Total bayar: Rp 22500.0\n"
          ]
        }
      ]
    },
    {
      "cell_type": "code",
      "source": [
        "angka = int(input(\"Masukkan bilangan: \"))\n",
        "\n",
        "if angka % 2 == 0:\n",
        "    print(\"bilangan genap\")\n",
        "else:\n",
        "    print(\"Bilangan ganjil\")"
      ],
      "metadata": {
        "colab": {
          "base_uri": "https://localhost:8080/"
        },
        "id": "iRfF-zrZ_29u",
        "outputId": "cac06dd3-6c7c-457c-9775-777590a515ea"
      },
      "execution_count": 15,
      "outputs": [
        {
          "output_type": "stream",
          "name": "stdout",
          "text": [
            "Masukkan bilangan: 2\n",
            "bilangan genap\n"
          ]
        }
      ]
    },
    {
      "cell_type": "code",
      "source": [
        "nilai = 80\n",
        "if nilai >= 85:\n",
        "  print(\"Luar biasa! Nilai A\")\n",
        "elif nilai >= 70:\n",
        "  print(\"Bagus! Nilai B\")\n",
        "elif nilai >= 60:\n",
        "  print(\"Cukup. Nilai C\")\n",
        "else:\n",
        "  print(\"Nilai kurang, perlu belajar lebih giat.\")"
      ],
      "metadata": {
        "colab": {
          "base_uri": "https://localhost:8080/"
        },
        "id": "_aO4ufBjBPO-",
        "outputId": "d2cf0aa3-ecd5-4829-f9ee-afca2e3bc455"
      },
      "execution_count": 16,
      "outputs": [
        {
          "output_type": "stream",
          "name": "stdout",
          "text": [
            "Bagus! Nilai B\n"
          ]
        }
      ]
    },
    {
      "cell_type": "code",
      "source": [
        "# Menentukan jenis diskon berdasarkan hari\n",
        "hari: str = \"sabtu\"\n",
        "\n",
        "if hari == \"sabtu\" or hari == \"minggu\":\n",
        "    diskon: float = 0.20 # 20%\n",
        "    print(f\"Selamat! Anda mendapat diskon akhir pekan sebesar {diskon*100}%.\")\n",
        "elif hari == \"jumat\":\n",
        "    diskon: float = 0.15 # Diskon 15%\n",
        "    print(f\"diskon spesial jumat! Anda mendapat potongan {diskon*100}%.\")\n",
        "else:\n",
        "    diskon: float = 0.05 # Diskon 10%\n",
        "    print(f\"Anda mendapat diskon hari biasa sebesar {diskon*100}%.\")"
      ],
      "metadata": {
        "colab": {
          "base_uri": "https://localhost:8080/"
        },
        "id": "arZLSj9YCvJf",
        "outputId": "9b58a099-b0d7-4865-f0cd-1fc423f70d06"
      },
      "execution_count": 17,
      "outputs": [
        {
          "output_type": "stream",
          "name": "stdout",
          "text": [
            "Selamat! Anda mendapat diskon akhir pekan sebesar 20.0%.\n"
          ]
        }
      ]
    },
    {
      "cell_type": "code",
      "source": [
        "rupiah = int(input(\"Masukkan jumalah uang (Rp): \"))\n",
        "print(\"1. Dollar (USD)\")\n",
        "print(\"2. Euro (EUR)\")\n",
        "print(\"3. Yen (JPY)\")\n",
        "pilih = int(input(\"Pilih konversi (1/2/3): \"))\n",
        "\n",
        "if pilih == 1:\n",
        "    print(\"Dalam Dollar:\", rupiah / 15000)\n",
        "elif pilih == 2:\n",
        "    print(\"Dalam Euro:\", rupiah / 16000)\n",
        "elif pilih == 3:\n",
        "    print(\"Dalam Yen:\", rupiah / 120)\n",
        "else:\n",
        "    print(\"Pilihan tidak valid.\")"
      ],
      "metadata": {
        "colab": {
          "base_uri": "https://localhost:8080/"
        },
        "id": "cb1QNv9qFo_L",
        "outputId": "57303f4c-b505-4c01-a0bf-049697cc5134"
      },
      "execution_count": 19,
      "outputs": [
        {
          "output_type": "stream",
          "name": "stdout",
          "text": [
            "Masukkan jumalah uang (Rp): 100000\n",
            "1. Dollar (USD)\n",
            "2. Euro (EUR)\n",
            "3. Yen (JPY)\n",
            "Pilih konversi (1/2/3): 1\n",
            "Dalam Dollar: 6.666666666666667\n"
          ]
        }
      ]
    },
    {
      "cell_type": "code",
      "source": [
        "# Program Mengecek Kelipatan 5\n",
        "angka = int(input(\"Masukkan sebuah angka: \"))\n",
        "\n",
        "if angka % 5 == 0:\n",
        "    print(\"Kelipatan 5\")\n",
        "else:\n",
        "    print(\"Bukan kelipatan 5\")\n",
        "\n",
        "# Program Menentukan Tahun Kabisat\n",
        "tahun = int(input(\"Masukkan tahun: \"))\n",
        "\n",
        "if tahun % 400 == 0:\n",
        "    print(f\"{tahun} adalah tahun kabisat\")\n",
        "elif tahun % 4 == 0 and tahun % 100 != 0:\n",
        "    print(f\"{tahun} adalah tahun kabisat\")\n",
        "else:\n",
        "    print(f\"{tahun} bukan tahun kabisat\")\n",
        "\n",
        "\n",
        "# Program Penentuan Grade Nilai\n",
        "nilai = float(input(\"Masukkan nilai siswa (0-100): \"))\n",
        "\n",
        "if nilai >= 90 and nilai <= 100:\n",
        "    grade = \"A\"\n",
        "    kategori = \"Sangat Baik\"\n",
        "elif nilai >= 80 and nilai < 90:\n",
        "    grade = \"B\"\n",
        "    kategori = \"Baik\"\n",
        "elif nilai >= 70 and nilai < 80:\n",
        "    grade = \"C\"\n",
        "    kategori = \"Cukup\"\n",
        "elif nilai >= 60 and nilai < 70:\n",
        "    grade = \"D\"\n",
        "    kategori = \"Kurang\"\n",
        "elif nilai >= 0 and nilai < 60:\n",
        "    grade = \"E\"\n",
        "    kategori = \"Sangat Kurang\"\n",
        "else:\n",
        "    grade = \"Tidak Valid\"\n",
        "    kategori = \"Input salah\"\n",
        "\n",
        "print(f\"Grade: {grade}\")\n",
        "print(f\"Kategori: {kategori}\")\n",
        "\n",
        "# Program Konversi Angka ke Nama Bulan\n",
        "bulan = int(input(\"Masukkan angka bulan (1-12): \"))\n",
        "\n",
        "if bulan == 1:\n",
        "    print(\"Januari\")\n",
        "elif bulan == 2:\n",
        "    print(\"Februari\")\n",
        "elif bulan == 3:\n",
        "    print(\"Maret\")\n",
        "elif bulan == 4:\n",
        "    print(\"April\")\n",
        "elif bulan == 5:\n",
        "    print(\"Mei\")\n",
        "elif bulan == 6:\n",
        "    print(\"Juni\")\n",
        "elif bulan == 7:\n",
        "    print(\"Juli\")\n",
        "elif bulan == 8:\n",
        "    print(\"Agustus\")\n",
        "elif bulan == 9:\n",
        "    print(\"September\")\n",
        "elif bulan == 10:\n",
        "    print(\"Oktober\")\n",
        "elif bulan == 11:\n",
        "    print(\"November\")\n",
        "elif bulan == 12:\n",
        "    print(\"Desember\")\n",
        "else:\n",
        "    print(\"Input salah\")\n",
        "\n",
        "# Program Salam berdasarkan Jam\n",
        "jam = int(input(\"Masukkan jam (0-23): \"))\n",
        "\n",
        "if jam >= 0 and jam <= 11:\n",
        "    print(\"Selamat Pagi\")\n",
        "elif jam >= 12 and jam <= 15:\n",
        "    print(\"Selamat Siang\")\n",
        "elif jam >= 16 and jam <= 18:\n",
        "    print(\"Selamat Sore\")\n",
        "elif jam >= 19 and jam <= 23:\n",
        "    print(\"Selamat Malam\")\n",
        "else:\n",
        "    print(\"Input jam tidak valid\")"
      ],
      "metadata": {
        "colab": {
          "base_uri": "https://localhost:8080/"
        },
        "id": "dJQ5anSJIzg9",
        "outputId": "c63e17a5-23c9-42e9-f1ca-87b1a8ccd41b"
      },
      "execution_count": 23,
      "outputs": [
        {
          "output_type": "stream",
          "name": "stdout",
          "text": [
            "Masukkan sebuah angka: 20\n",
            "Kelipatan 5\n",
            "Masukkan tahun: 2025\n",
            "2025 bukan tahun kabisat\n",
            "Masukkan nilai siswa (0-100): 80\n",
            "Grade: B\n",
            "Kategori: Baik\n",
            "Masukkan angka bulan (1-12): 10\n",
            "Oktober\n",
            "Masukkan jam (0-23): 12\n",
            "Selamat Siang\n"
          ]
        }
      ]
    },
    {
      "cell_type": "code",
      "source": [
        "# Pemerograman Dasar\n",
        "\n",
        "## Tugas\n",
        "\n",
        "print(\"=\" * 30)\n",
        "print(\"SELAMAT DATANG DI KAFE GEMINT\")\n",
        "print(\"=\" * 30)\n",
        "print(\"Menu Makanan & Minuman:\")\n",
        "print(\"1. Kopi Hitam  - Rp 12.000\")\n",
        "print(\"2. Teh Manis   - Rp 8.000\")\n",
        "print(\"3. Roti Bakar  - Rp 16.000\")\n",
        "print(\"4. Mie Instan  - Rp 10.000\")\n",
        "print(\"=\" * 90)\n",
        "\n",
        "pilihan_str: str = input(\"Silahkan masukkan nomor pilihan Anda (1-4): \")\n",
        "pilihan: int = int(pilihan_str)\n",
        "nama_pesanan: str = \"\"\n",
        "harga: int = 0\n",
        "\n",
        "if pilihan == 1:\n",
        "    nama_pesanan = \"Kopi Hitam\"\n",
        "    harga = 12000\n",
        "    print(f\"Anda memesan {nama_pesanan} dengan harga Rp {harga}\")\n",
        "elif pilihan == 2:\n",
        "    nama_pesanan = \"Teh Nmila\"\n",
        "    harga = 8000\n",
        "    print(f\"Anda memesan {nama_pesanan} dengan harga Rp {harga}\")\n",
        "elif pilihan == 3:\n",
        "    nama_pesanan = \"Roti Bakar\"\n",
        "    harga = 15000\n",
        "    print(f\"Anda memesan {nama_pesanan} dengan harga Rp {harga}\")\n",
        "elif pilihan == 4:\n",
        "    nama_pesanan = \"Mie Instan\"\n",
        "    harga = 10000\n",
        "    print(f\"Anda memesan {nama_pesanan} dengan harga Rp {harga}\")\n",
        "else:\n",
        "    print(\"Maaf, pilihan menu tidak valid. Silahkan jalankan ulang program.\")\n",
        "    exit()\n",
        "\n",
        "if harga > 0:\n",
        "    print(\"-\" * 30)\n",
        "\n",
        "    # Sistem diskon\n",
        "    print(\"Pilih Kategori Diskon:\")\n",
        "    print(\"1. Diskon 70%\")\n",
        "    print(\"2. Diskon 50%\")\n",
        "    print(\"3. Diskon 30%\")\n",
        "    print(\"4. Tanpa Diskon\")\n",
        "\n",
        "    diskon_pilihan_str: str = input(\"Masukkan pilihan diskon (1-4): \")\n",
        "    diskon_pilihan: int = int(diskon_pilihan_str)\n",
        "\n",
        "    diskon: float = 0.0\n",
        "    kategori_diskon: str = \"\"\n",
        "\n",
        "    if diskon_pilihan == 1:\n",
        "        diskon = 0.70  # 70%\n",
        "        kategori_diskon = \"70%\"\n",
        "    elif diskon_pilihan == 2:\n",
        "        diskon = 0.50  # 50%\n",
        "        kategori_diskon = \"50%\"\n",
        "    elif diskon_pilihan == 3:\n",
        "        diskon = 0.30  # 30%\n",
        "        kategori_diskon = \"30%\"\n",
        "    elif diskon_pilihan == 4:\n",
        "        diskon = 0.0   # Tanpa diskon\n",
        "        kategori_diskon = \"0%\"\n",
        "    else:\n",
        "        print(\"Pilihan diskon tidak valid. Menggunakan tanpa diskon.\")\n",
        "        diskon = 0.0\n",
        "        kategori_diskon = \"0%\"\n",
        "\n",
        "    # Hitung harga setelah diskon\n",
        "    harga_awal: int = harga\n",
        "    potongan: int = int(harga * diskon)\n",
        "    harga_setelah_diskon: int = harga_awal - potongan\n",
        "\n",
        "    print(f\"Harga awal: Rp {harga_awal}\")\n",
        "    print(f\"Diskon {kategori_diskon}: Rp {potongan}\")\n",
        "    print(f\"Total setelah diskon: Rp {harga_setelah_diskon}\")\n",
        "\n",
        "    print(\"-\" * 30)\n",
        "    uang_dibayar_str: str = input(f\"Total yang harus dibayar: Rp {harga_setelah_diskon}. Masukkan jumlah uang Anda: Rp \")\n",
        "    uang_dibayar: int = int(uang_dibayar_str)\n",
        "\n",
        "    if uang_dibayar >= harga_setelah_diskon:\n",
        "        kembalian: int = uang_dibayar - harga_setelah_diskon\n",
        "        print(\"--- Struk Pembayaran ---\")\n",
        "        print(f\"Pesanan Anda  : {nama_pesanan}\")\n",
        "        print(f\"Harga Awal    : Rp {harga_awal}\")\n",
        "        print(f\"Diskon        : {kategori_diskon} (Rp {potongan})\")\n",
        "        print(f\"Total Harga   : Rp {harga_setelah_diskon}\")\n",
        "        print(f\"Uang Pembayaran : Rp {uang_dibayar}\")\n",
        "        print(f\"Kembalian     : Rp {kembalian}\")\n",
        "        print(\"---\")\n",
        "        print(\"Terima kasih telah berbelanja!\")\n",
        "    else:\n",
        "        kekurangan: int = harga_setelah_diskon - uang_dibayar\n",
        "        print(f\"Maaf, uang Anda kurang sebesar Rp {kekurangan}.\")\n",
        "\n",
        "print(\"=\" * 30)"
      ],
      "metadata": {
        "colab": {
          "base_uri": "https://localhost:8080/"
        },
        "id": "NYQpuUDsMnVy",
        "outputId": "bb6c680b-b681-42aa-8b0a-a7e275d36ab7"
      },
      "execution_count": 25,
      "outputs": [
        {
          "output_type": "stream",
          "name": "stdout",
          "text": [
            "==============================\n",
            "SELAMAT DATANG DI KAFE GEMINT\n",
            "==============================\n",
            "Menu Makanan & Minuman:\n",
            "1. Kopi Hitam  - Rp 12.000\n",
            "2. Teh Manis   - Rp 8.000\n",
            "3. Roti Bakar  - Rp 16.000\n",
            "4. Mie Instan  - Rp 10.000\n",
            "==========================================================================================\n",
            "Silahkan masukkan nomor pilihan Anda (1-4): 3\n",
            "Anda memesan Roti Bakar dengan harga Rp 15000\n",
            "------------------------------\n",
            "Pilih Kategori Diskon:\n",
            "1. Diskon 70%\n",
            "2. Diskon 50%\n",
            "3. Diskon 30%\n",
            "4. Tanpa Diskon\n",
            "Masukkan pilihan diskon (1-4): 50\n",
            "Pilihan diskon tidak valid. Menggunakan tanpa diskon.\n",
            "Harga awal: Rp 15000\n",
            "Diskon 0%: Rp 0\n",
            "Total setelah diskon: Rp 15000\n",
            "------------------------------\n",
            "Total yang harus dibayar: Rp 15000. Masukkan jumlah uang Anda: Rp 50000\n",
            "--- Struk Pembayaran ---\n",
            "Pesanan Anda  : Roti Bakar\n",
            "Harga Awal    : Rp 15000\n",
            "Diskon        : 0% (Rp 0)\n",
            "Total Harga   : Rp 15000\n",
            "Uang Pembayaran : Rp 50000\n",
            "Kembalian     : Rp 35000\n",
            "---\n",
            "Terima kasih telah berbelanja!\n",
            "==============================\n"
          ]
        }
      ]
    }
  ]
}