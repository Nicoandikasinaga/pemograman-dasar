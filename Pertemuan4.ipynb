{
  "nbformat": 4,
  "nbformat_minor": 0,
  "metadata": {
    "colab": {
      "provenance": [],
      "authorship_tag": "ABX9TyPboQqV2STm+PCqdl7B8+C7",
      "include_colab_link": true
    },
    "kernelspec": {
      "name": "python3",
      "display_name": "Python 3"
    },
    "language_info": {
      "name": "python"
    }
  },
  "cells": [
    {
      "cell_type": "markdown",
      "metadata": {
        "id": "view-in-github",
        "colab_type": "text"
      },
      "source": [
        "<a href=\"https://colab.research.google.com/github/Nicoandikasinaga/pemograman-dasar/blob/main/Pertemuan4.ipynb\" target=\"_parent\"><img src=\"https://colab.research.google.com/assets/colab-badge.svg\" alt=\"Open In Colab\"/></a>"
      ]
    },
    {
      "cell_type": "code",
      "execution_count": null,
      "metadata": {
        "colab": {
          "base_uri": "https://localhost:8080/"
        },
        "id": "CAwncseoUxig",
        "outputId": "8629f615-a8d4-461f-bf31-b9c1aa501f48"
      },
      "outputs": [
        {
          "output_type": "stream",
          "name": "stdout",
          "text": [
            "Pengunjung adalah orang dewasa.\n"
          ]
        }
      ],
      "source": [
        "# Variabel untuk menyimpan umur pengunjung\n",
        "umur: int = 19\n",
        "\n",
        "# Program akan hanya mencetak pesan jika umur diatas 17\n",
        "if umur > 17:\n",
        "    print(\"Pengunjung adalah orang dewasa.\")"
      ]
    },
    {
      "cell_type": "code",
      "source": [
        "username = input(\"Masukkan username: \")\n",
        "password = input(\"Masukkan password: \")\n",
        "\n",
        "if username == \"nico\" and password == \"nico1234\":\n",
        "    print(\"Login berhasil\")\n",
        "else:\n",
        "    print(\"Login gagal\")"
      ],
      "metadata": {
        "colab": {
          "base_uri": "https://localhost:8080/"
        },
        "id": "Qk31J-Sve8mu",
        "outputId": "37074de5-4c9e-4b69-b4be-be0926e10423"
      },
      "execution_count": null,
      "outputs": [
        {
          "output_type": "stream",
          "name": "stdout",
          "text": [
            "Masukkan username: nico\n",
            "Masukkan password: nico1234\n",
            "Login berhasil\n"
          ]
        }
      ]
    },
    {
      "cell_type": "code",
      "source": [
        "# Program untuk mengecek bonus dan diskon\n",
        "total_belanja = input(\"Masukkan total belanja: Rp. \")\n",
        "\n",
        "# Konversi ke integer\n",
        "total_belanja_int = int(total_belanja)\n",
        "bayar = total_belanja_int\n",
        "\n",
        "# Jika dia belanja di atas 100rb maka berikut bonus dan diskon\n",
        "if total_belanja_int > 100000:\n",
        "    print(\"Selamat Karena Belanja > Rp. 100.000 anda mendapat Voucher Makan\")\n",
        "    print(\"dan diskon 5%\")\n",
        "\n",
        "    # hitung diskonnya\n",
        "    diskon = total_belanja_int * 5/100  # 5%\n",
        "    bayar = total_belanja_int - diskon\n",
        "else:\n",
        "    print(\"Terima kasih sudah berbelanja di Toko Kami\")\n",
        "\n",
        "# cetak struk\n",
        "print(\"Total yang harus di bayar: Rp %s\" % bayar)\n",
        "print(\"Terima kasih karena sudah berbelanja di Toko Kami\")\n",
        "print(\"Kami Tunggu Kunjungan anda selanjutnya.\")"
      ],
      "metadata": {
        "id": "km60FwzhfFSl",
        "colab": {
          "base_uri": "https://localhost:8080/"
        },
        "outputId": "9d4f0187-816c-4022-8b3e-6b1d0375c02c"
      },
      "execution_count": null,
      "outputs": [
        {
          "output_type": "stream",
          "name": "stdout",
          "text": [
            "Masukkan total belanja: Rp. 150000\n",
            "Selamat Karena Belanja > Rp. 100.000 anda mendapat Voucher Makan\n",
            "dan diskon 5%\n",
            "Total yang harus di bayar: Rp 142500.0\n",
            "Terima kasih karena sudah berbelanja di Toko Kami\n",
            "Kami Tunggu Kunjungan anda selanjutnya.\n"
          ]
        }
      ]
    },
    {
      "cell_type": "code",
      "source": [
        "# Variabel untuk memeriksa apakah ada notifikasi baru\n",
        "ada_notifikasi_baru: bool = True\n",
        "\n",
        "if ada_notifikasi_baru:\n",
        "    print(\"Anda memiliki pesan baru!\")"
      ],
      "metadata": {
        "colab": {
          "base_uri": "https://localhost:8080/"
        },
        "id": "KwVTl-tKlAVm",
        "outputId": "67c10fb0-5ca3-46d8-ba98-3506429e591b"
      },
      "execution_count": null,
      "outputs": [
        {
          "output_type": "stream",
          "name": "stdout",
          "text": [
            "Anda memiliki pesan baru!\n"
          ]
        }
      ]
    },
    {
      "cell_type": "code",
      "source": [
        "umur = input(\"Berapa umur kamu: \")\n",
        "if int(umur) >= 18:\n",
        "  print(\"Kamu boleh membuat SIM\")\n",
        "else:\n",
        "  print(\"Kamu belum boleh membuat SIM\")"
      ],
      "metadata": {
        "colab": {
          "base_uri": "https://localhost:8080/"
        },
        "id": "tmno2jyW7eDq",
        "outputId": "7939efc5-266a-4a81-cc5c-73baa424b5f6"
      },
      "execution_count": null,
      "outputs": [
        {
          "output_type": "stream",
          "name": "stdout",
          "text": [
            "Berapa umur kamu: 19\n",
            "Kamu boleh membuat SIM\n"
          ]
        }
      ]
    },
    {
      "cell_type": "code",
      "source": [
        "# Asumsikan total belanja diatas 20rb\n",
        "total_belanja = 25000\n",
        "\n",
        "if total_belanja > 20000:\n",
        "    diskon = total_belanja * 0.10\n",
        "    total_bayar = total_belanja - diskon\n",
        "    print(f\"Anda mendapat diskon! Total bayar: Rp {total_bayar}\")\n",
        "else:\n",
        "    print(f\"Total bayar: Rp {total_belanja}\")"
      ],
      "metadata": {
        "colab": {
          "base_uri": "https://localhost:8080/"
        },
        "id": "w7x3Qedw8SvN",
        "outputId": "8715ddc1-5e00-402a-80c2-6e0944dd1853"
      },
      "execution_count": null,
      "outputs": [
        {
          "output_type": "stream",
          "name": "stdout",
          "text": [
            "Anda mendapat diskon! Total bayar: Rp 22500.0\n"
          ]
        }
      ]
    },
    {
      "cell_type": "code",
      "source": [
        "angka = int(input(\"Masukkan bilangan: \"))\n",
        "\n",
        "if angka % 2 == 0:\n",
        "    print(\"bilangan genap\")\n",
        "else:\n",
        "    print(\"Bilangan ganjil\")"
      ],
      "metadata": {
        "colab": {
          "base_uri": "https://localhost:8080/"
        },
        "id": "iRfF-zrZ_29u",
        "outputId": "eb52a4e2-e33c-4b16-bd4a-85303fb283e4"
      },
      "execution_count": 4,
      "outputs": [
        {
          "output_type": "stream",
          "name": "stdout",
          "text": [
            "Masukkan bilangan: 1\n",
            "Bilangan ganjil\n"
          ]
        }
      ]
    },
    {
      "cell_type": "code",
      "source": [
        "nilai = 80\n",
        "if nilai >= 85:\n",
        "  print(\"Luar biasa! Nilai A\")\n",
        "elif nilai >= 70:\n",
        "  print(\"Bagus! Nilai B\")\n",
        "elif nilai >= 60:\n",
        "  print(\"Cukup. Nilai C\")\n",
        "else:\n",
        "  print(\"Nilai kurang, perlu belajar lebih giat.\")"
      ],
      "metadata": {
        "colab": {
          "base_uri": "https://localhost:8080/"
        },
        "id": "_aO4ufBjBPO-",
        "outputId": "b7a35bc5-6662-469d-8f3a-32387ca7ac7f"
      },
      "execution_count": 3,
      "outputs": [
        {
          "output_type": "stream",
          "name": "stdout",
          "text": [
            "Bagus! Nilai B\n"
          ]
        }
      ]
    },
    {
      "cell_type": "code",
      "source": [
        "# Menentukan jenis diskon berdasarkan hari\n",
        "hari: str = \"sabtu\"\n",
        "\n",
        "if hari == \"sabtu\" or hari == \"minggu\":\n",
        "    diskon: float = 0.20 # 20%\n",
        "    print(f\"Selamat! Anda mendapat diskon akhir pekan sebesar {diskon*100}%.\")\n",
        "elif hari == \"jumat\":\n",
        "    diskon: float = 0.15 # Diskon 15%\n",
        "    print(f\"diskon spesial jumat! Anda mendapat potongan {diskon*100}%.\")\n",
        "else:\n",
        "    diskon: float = 0.05 # Diskon 10%\n",
        "    print(f\"Anda mendapat diskon hari biasa sebesar {diskon*100}%.\")"
      ],
      "metadata": {
        "colab": {
          "base_uri": "https://localhost:8080/"
        },
        "id": "arZLSj9YCvJf",
        "outputId": "9b58a099-b0d7-4865-f0cd-1fc423f70d06"
      },
      "execution_count": null,
      "outputs": [
        {
          "output_type": "stream",
          "name": "stdout",
          "text": [
            "Selamat! Anda mendapat diskon akhir pekan sebesar 20.0%.\n"
          ]
        }
      ]
    },
    {
      "cell_type": "code",
      "source": [
        "# Konversi mata uang\n",
        "rupiah = int(input(\"Masukkan jumlah uang (Rp): \"))\n",
        "print(\"1. Dollar (USD)\")\n",
        "print(\"2. Euro (EUR)\")\n",
        "print(\"3. Yen (JPY)\")\n",
        "pilih = int(input(\"Pilih konversi (1/2/3): \"))\n",
        "\n",
        "if pilih == 1:\n",
        "    print(\"Dalam Dollar:\", rupiah / 15000)\n",
        "elif pilih == 2:\n",
        "    print(\"Dalam Euro:\", rupiah / 16000)\n",
        "elif pilih == 3:\n",
        "    print(\"Dalam Yen:\", rupiah / 120)\n",
        "else:\n",
        "    print(\"Pilihan tidak valid\")"
      ],
      "metadata": {
        "id": "yGUUnVjRm0qz",
        "outputId": "37154380-8e2d-45b0-ec21-cd99a2a582be",
        "colab": {
          "base_uri": "https://localhost:8080/"
        }
      },
      "execution_count": 15,
      "outputs": [
        {
          "output_type": "stream",
          "name": "stdout",
          "text": [
            "Masukkan jumlah uang (Rp): 100000\n",
            "1. Dollar (USD)\n",
            "2. Euro (EUR)\n",
            "3. Yen (JPY)\n",
            "Pilih konversi (1/2/3): 2\n",
            "Dalam Euro: 6.25\n"
          ]
        }
      ]
    },
    {
      "cell_type": "code",
      "source": [
        "def cek_kelipatan_5(angka):\n",
        "    \"\"\"\n",
        "    Fungsi untuk mengecek apakah angka merupakan kelipatan 5\n",
        "    \"\"\"\n",
        "    if angka % 5 == 0:\n",
        "        return \"Kelipatan 5\"\n",
        "    else:\n",
        "        return \"Bukan kelipatan 5\"\n",
        "\n",
        "# Program utama\n",
        "print(\"=== PROGRAM CEK KELIPATAN 5 ===\")\n",
        "\n",
        "try:\n",
        "    # Input angka dari pengguna\n",
        "    angka_input = int(input(\"Masukkan sebuah angka: \"))\n",
        "\n",
        "    # Cek apakah kelipatan 5\n",
        "    hasil = cek_kelipatan_5(angka_input)\n",
        "    print(f\"Angka {angka_input} → {hasil}\")\n",
        "\n",
        "except ValueError:\n",
        "    print(\"Error: Harap masukkan angka yang valid!\")\n",
        "\n",
        "# Versi alternatif dengan penjelasan lebih detail\n",
        "print(\"\\n\" + \"=\"*50)\n",
        "print(\"=== PROGRAM ALTERNATIF ===\")\n",
        "\n",
        "def program_kelipatan_5():\n",
        "    \"\"\"\n",
        "    Versi alternatif dengan penjelasan lebih detail\n",
        "    \"\"\"\n",
        "    try:\n",
        "        angka = int(input(\"Masukkan sebuah angka: \"))\n",
        "\n",
        "        # Menggunakan kondisi if untuk mengecek kelipatan 5\n",
        "        if angka % 5 == 0:\n",
        "            print(f\"✓ Angka {angka} adalah KELIPATAN 5\")\n",
        "            print(f\"  Penjelasan: {angka} ÷ 5 = {angka // 5} (habis dibagi)\")\n",
        "        else:\n",
        "            print(f\"✗ Angka {angka} BUKAN kelipatan 5\")\n",
        "            print(f\"  Penjelasan: {angka} ÷ 5 = {angka / 5} (ada sisa {angka % 5})\")\n",
        "\n",
        "    except ValueError:\n",
        "        print(\"Error: Input harus berupa angka!\")\n",
        "\n",
        "# Jalankan program alternatif\n",
        "program_kelipatan_5()\n",
        "\n",
        "# Testing untuk beberapa contoh angka\n",
        "print(\"\\n\" + \"=\"*50)\n",
        "print(\"=== TESTING BEBERAPA CONTOH ===\")\n",
        "\n",
        "contoh_angka = [5, 10, 15, 20, 25, 3, 7, 12, 18, 23, 0, -5, -10, -7]\n",
        "\n",
        "print(\"Angka     | Hasil\")\n",
        "print(\"-\" * 25)\n",
        "\n",
        "for angka in contoh_angka:\n",
        "    if angka % 5 == 0:\n",
        "        hasil = \"Kelipatan 5\"\n",
        "    else:\n",
        "        hasil = \"Bukan kelipatan 5\"\n",
        "    print(f\"{angka:8} | {hasil}\")\n",
        "\n",
        "# Testing dengan input interaktif multiple\n",
        "print(\"\\n\" + \"=\"*50)\n",
        "print(\"=== MULTIPLE INPUT TEST ===\")\n",
        "\n",
        "def multiple_test():\n",
        "    \"\"\"\n",
        "    Testing dengan multiple input\n",
        "    \"\"\"\n",
        "    print(\"Masukkan beberapa angka (pisahkan dengan spasi):\")\n",
        "    try:\n",
        "        input_angka = input(\"Contoh: 5 10 15 20 25: \")\n",
        "        angka_list = [int(x) for x in input_angka.split()]\n",
        "\n",
        "        print(\"\\nHasil:\")\n",
        "        for angka in angka_list:\n",
        "            if angka % 5 == 0:\n",
        "                print(f\"  {angka} → Kelipatan 5 ✓\")\n",
        "            else:\n",
        "                print(f\"  {angka} → Bukan kelipatan 5 ✗\")\n",
        "\n",
        "    except ValueError:\n",
        "        print(\"Error: Pastikan semua input adalah angka!\")\n",
        "\n",
        "multiple_test()"
      ],
      "metadata": {
        "id": "QIo9Yd7FsNGJ",
        "outputId": "42ea09d6-ccc6-4b2b-945e-deb1ae1b007d",
        "colab": {
          "base_uri": "https://localhost:8080/"
        }
      },
      "execution_count": 23,
      "outputs": [
        {
          "output_type": "stream",
          "name": "stdout",
          "text": [
            "=== PROGRAM CEK KELIPATAN 5 ===\n",
            "Masukkan sebuah angka: 20\n",
            "Angka 20 → Kelipatan 5\n",
            "\n",
            "==================================================\n",
            "=== PROGRAM ALTERNATIF ===\n",
            "Masukkan sebuah angka: 50\n",
            "✓ Angka 50 adalah KELIPATAN 5\n",
            "  Penjelasan: 50 ÷ 5 = 10 (habis dibagi)\n",
            "\n",
            "==================================================\n",
            "=== TESTING BEBERAPA CONTOH ===\n",
            "Angka     | Hasil\n",
            "-------------------------\n",
            "       5 | Kelipatan 5\n",
            "      10 | Kelipatan 5\n",
            "      15 | Kelipatan 5\n",
            "      20 | Kelipatan 5\n",
            "      25 | Kelipatan 5\n",
            "       3 | Bukan kelipatan 5\n",
            "       7 | Bukan kelipatan 5\n",
            "      12 | Bukan kelipatan 5\n",
            "      18 | Bukan kelipatan 5\n",
            "      23 | Bukan kelipatan 5\n",
            "       0 | Kelipatan 5\n",
            "      -5 | Kelipatan 5\n",
            "     -10 | Kelipatan 5\n",
            "      -7 | Bukan kelipatan 5\n",
            "\n",
            "==================================================\n",
            "=== MULTIPLE INPUT TEST ===\n",
            "Masukkan beberapa angka (pisahkan dengan spasi):\n",
            "Contoh: 5 10 15 20 25: 15 25 35 45 60\n",
            "\n",
            "Hasil:\n",
            "  15 → Kelipatan 5 ✓\n",
            "  25 → Kelipatan 5 ✓\n",
            "  35 → Kelipatan 5 ✓\n",
            "  45 → Kelipatan 5 ✓\n",
            "  60 → Kelipatan 5 ✓\n"
          ]
        }
      ]
    },
    {
      "cell_type": "code",
      "source": [
        "def cek_tahun_kabisat(tahun):\n",
        "    \"\"\"Fungsi untuk mengecek apakah tahun adalah kabisat\"\"\"\n",
        "    if tahun % 400 == 0:\n",
        "        return True\n",
        "    elif tahun % 4 == 0 and tahun % 100 != 0:\n",
        "        return True\n",
        "    else:\n",
        "        return False\n",
        "\n",
        "print(\"Program Cek Tahun Kabisat\")\n",
        "print(\"Ketik 'exit' untuk keluar\")\n",
        "\n",
        "while True:\n",
        "    input_tahun = input(\"\\nMasukkan tahun: \")\n",
        "\n",
        "    if input_tahun.lower() == 'exit':\n",
        "        print(\"Program selesai.\")\n",
        "        break\n",
        "\n",
        "    try:\n",
        "        tahun = int(input_tahun)\n",
        "\n",
        "        if cek_tahun_kabisat(tahun):\n",
        "            print(f\"✓ {tahun} adalah tahun kabisat\")\n",
        "        else:\n",
        "            print(f\"✗ {tahun} bukan tahun kabisat\")\n",
        "\n",
        "    except ValueError:\n",
        "        print(\"Error: Masukkan tahun yang valid!\")"
      ],
      "metadata": {
        "id": "oasWCXvKo4Ax",
        "outputId": "61a529fe-deba-4991-a8d2-a26b0f3e07e0",
        "colab": {
          "base_uri": "https://localhost:8080/"
        }
      },
      "execution_count": 17,
      "outputs": [
        {
          "output_type": "stream",
          "name": "stdout",
          "text": [
            "Program Cek Tahun Kabisat\n",
            "Ketik 'exit' untuk keluar\n",
            "\n",
            "Masukkan tahun: 200\n",
            "✗ 200 bukan tahun kabisat\n",
            "\n",
            "Masukkan tahun: 100\n",
            "✗ 100 bukan tahun kabisat\n",
            "\n",
            "Masukkan tahun: 500\n",
            "✗ 500 bukan tahun kabisat\n",
            "\n",
            "Masukkan tahun: 400\n",
            "✓ 400 adalah tahun kabisat\n",
            "\n",
            "Masukkan tahun: 600\n",
            "✗ 600 bukan tahun kabisat\n",
            "\n",
            "Masukkan tahun: exit\n",
            "Program selesai.\n"
          ]
        }
      ]
    },
    {
      "cell_type": "code",
      "source": [
        "def kategori_nilai(skor):\n",
        "    \"\"\"\n",
        "    Fungsi untuk menentukan kategori nilai berdasarkan skor\n",
        "    \"\"\"\n",
        "    if skor >= 90:\n",
        "        return \"A (Sangat Baik)\"\n",
        "    elif skor >= 80:\n",
        "        return \"B (Baik)\"\n",
        "    elif skor >= 70:\n",
        "        return \"C (Cukup)\"\n",
        "    elif skor >= 60:\n",
        "        return \"D (Kurang)\"\n",
        "    else:\n",
        "        return \"E (Gagal)\"\n",
        "\n",
        "# Program utama\n",
        "print(\"=== PROGRAM KATEGORI NILAI SISWA ===\")\n",
        "\n",
        "try:\n",
        "    # Input skor dari pengguna\n",
        "    skor_siswa = float(input(\"Masukkan skor siswa (0-100): \"))\n",
        "\n",
        "    # Validasi input\n",
        "    if skor_siswa < 0 or skor_siswa > 100:\n",
        "        print(\"Error: Skor harus antara 0-100!\")\n",
        "    else:\n",
        "        # Menentukan kategori nilai\n",
        "        kategori = kategori_nilai(skor_siswa)\n",
        "        print(f\"Skor: {skor_siswa}\")\n",
        "        print(f\"Kategori: {kategori}\")\n",
        "\n",
        "except ValueError:\n",
        "    print(\"Error: Masukkan angka yang valid!\")\n",
        "\n",
        "# Contoh output untuk beberapa nilai\n",
        "print(\"\\n=== CONTOH LAIN ===\")\n",
        "contoh_nilai = [95, 85, 75, 65, 55, 105, -5]\n",
        "\n",
        "for nilai in contoh_nilai:\n",
        "    if 0 <= nilai <= 100:\n",
        "        print(f\"Skor {nilai} → {kategori_nilai(nilai)}\")"
      ],
      "metadata": {
        "id": "uVv46yGiqDAh",
        "outputId": "003b1bee-87e5-4d4c-c85e-de6effe0e4b4",
        "colab": {
          "base_uri": "https://localhost:8080/"
        }
      },
      "execution_count": 19,
      "outputs": [
        {
          "output_type": "stream",
          "name": "stdout",
          "text": [
            "=== PROGRAM KATEGORI NILAI SISWA ===\n",
            "Masukkan skor siswa (0-100): 80\n",
            "Skor: 80.0\n",
            "Kategori: B (Baik)\n",
            "\n",
            "=== CONTOH LAIN ===\n",
            "Skor 95 → A (Sangat Baik)\n",
            "Skor 85 → B (Baik)\n",
            "Skor 75 → C (Cukup)\n",
            "Skor 65 → D (Kurang)\n",
            "Skor 55 → E (Gagal)\n"
          ]
        }
      ]
    },
    {
      "cell_type": "code",
      "source": [
        "def konversi_bulan(angka_bulan):\n",
        "    \"\"\"\n",
        "    Fungsi untuk mengkonversi angka bulan menjadi nama bulan\n",
        "    \"\"\"\n",
        "    if angka_bulan == 1:\n",
        "        return \"Januari\"\n",
        "    elif angka_bulan == 2:\n",
        "        return \"Februari\"\n",
        "    elif angka_bulan == 3:\n",
        "        return \"Maret\"\n",
        "    elif angka_bulan == 4:\n",
        "        return \"April\"\n",
        "    elif angka_bulan == 5:\n",
        "        return \"Mei\"\n",
        "    elif angka_bulan == 6:\n",
        "        return \"Juni\"\n",
        "    elif angka_bulan == 7:\n",
        "        return \"Juli\"\n",
        "    elif angka_bulan == 8:\n",
        "        return \"Agustus\"\n",
        "    elif angka_bulan == 9:\n",
        "        return \"September\"\n",
        "    elif angka_bulan == 10:\n",
        "        return \"Oktober\"\n",
        "    elif angka_bulan == 11:\n",
        "        return \"November\"\n",
        "    elif angka_bulan == 12:\n",
        "        return \"Desember\"\n",
        "    else:\n",
        "        return \"Input salah\"\n",
        "\n",
        "# Program utama\n",
        "print(\"=== KONVERSI ANGKA BULAN KE NAMA BULAN ===\")\n",
        "print(\"1 = Januari, 2 = Februari, 3 = Maret, ... 12 = Desember\")\n",
        "\n",
        "try:\n",
        "    # Input angka bulan dari pengguna\n",
        "    input_bulan = int(input(\"Masukkan angka bulan (1-12): \"))\n",
        "\n",
        "    # Konversi dan tampilkan hasil\n",
        "    nama_bulan = konversi_bulan(input_bulan)\n",
        "    print(f\"Angka {input_bulan} → {nama_bulan}\")\n",
        "\n",
        "except ValueError:\n",
        "    print(\"Input salah: Harap masukkan angka!\")\n",
        "\n",
        "# Versi alternatif dengan validasi lebih lengkap\n",
        "print(\"\\n\" + \"=\"*50)\n",
        "print(\"=== PROGRAM ALTERNATIF DENGAN VALIDASI ===\")\n",
        "\n",
        "def konversi_bulan_alternatif():\n",
        "    \"\"\"\n",
        "    Versi alternatif dengan validasi input\n",
        "    \"\"\"\n",
        "    try:\n",
        "        angka = int(input(\"Masukkan angka bulan (1-12): \"))\n",
        "\n",
        "        if 1 <= angka <= 12:\n",
        "            # Menggunakan dictionary untuk mapping\n",
        "            bulan_dict = {\n",
        "                1: \"Januari\", 2: \"Februari\", 3: \"Maret\",\n",
        "                4: \"April\", 5: \"Mei\", 6: \"Juni\",\n",
        "                7: \"Juli\", 8: \"Agustus\", 9: \"September\",\n",
        "                10: \"Oktober\", 11: \"November\", 12: \"Desember\"\n",
        "            }\n",
        "            return f\"Angka {angka} → {bulan_dict[angka]}\"\n",
        "        else:\n",
        "            return \"Input salah: Angka harus antara 1-12\"\n",
        "\n",
        "    except ValueError:\n",
        "        return \"Input salah: Harap masukkan angka!\"\n",
        "\n",
        "# Jalankan program alternatif\n",
        "hasil = konversi_bulan_alternatif()\n",
        "print(hasil)\n",
        "\n",
        "# Contoh testing untuk semua kemungkinan\n",
        "print(\"\\n\" + \"=\"*50)\n",
        "print(\"=== TESTING SEMUA KEMUNGKINAN ===\")\n",
        "\n",
        "test_angka = [1, 2, 3, 4, 5, 6, 7, 8, 9, 10, 11, 12, 0, 13, \"abc\"]\n",
        "\n",
        "for angka in test_angka:\n",
        "    if isinstance(angka, int):\n",
        "        print(f\"Angka {angka:2} → {konversi_bulan(angka)}\")"
      ],
      "metadata": {
        "id": "w5W7e3IMqvyw",
        "outputId": "c7f2ed63-16e7-472b-d73e-8e7700cb9f1f",
        "colab": {
          "base_uri": "https://localhost:8080/"
        }
      },
      "execution_count": 21,
      "outputs": [
        {
          "output_type": "stream",
          "name": "stdout",
          "text": [
            "=== KONVERSI ANGKA BULAN KE NAMA BULAN ===\n",
            "1 = Januari, 2 = Februari, 3 = Maret, ... 12 = Desember\n",
            "Masukkan angka bulan (1-12): 1\n",
            "Angka 1 → Januari\n",
            "\n",
            "==================================================\n",
            "=== PROGRAM ALTERNATIF DENGAN VALIDASI ===\n",
            "Masukkan angka bulan (1-12): 2\n",
            "Angka 2 → Februari\n",
            "\n",
            "==================================================\n",
            "=== TESTING SEMUA KEMUNGKINAN ===\n",
            "Angka  1 → Januari\n",
            "Angka  2 → Februari\n",
            "Angka  3 → Maret\n",
            "Angka  4 → April\n",
            "Angka  5 → Mei\n",
            "Angka  6 → Juni\n",
            "Angka  7 → Juli\n",
            "Angka  8 → Agustus\n",
            "Angka  9 → September\n",
            "Angka 10 → Oktober\n",
            "Angka 11 → November\n",
            "Angka 12 → Desember\n",
            "Angka  0 → Input salah\n",
            "Angka 13 → Input salah\n"
          ]
        }
      ]
    },
    {
      "cell_type": "code",
      "source": [
        "def tampilkan_salam(jam):\n",
        "    \"\"\"\n",
        "    Fungsi untuk menampilkan salam berdasarkan jam\n",
        "    \"\"\"\n",
        "    if 0 <= jam <= 11:\n",
        "        return \"Selamat Pagi 🌅\"\n",
        "    elif 12 <= jam <= 15:\n",
        "        return \"Selamat Siang ☀️\"\n",
        "    elif 16 <= jam <= 18:\n",
        "        return \"Selamat Sore 🌇\"\n",
        "    elif 19 <= jam <= 23:\n",
        "        return \"Selamat Malam 🌙\"\n",
        "    else:\n",
        "        return \"Input tidak valid!\"\n",
        "\n",
        "# Program utama\n",
        "print(\"=== PROGRAM PENAMPIL SALAM ===\")\n",
        "print(\"Format jam: 0-23 (24-hour format)\")\n",
        "\n",
        "try:\n",
        "    # Input jam dari pengguna\n",
        "    jam_input = int(input(\"Masukkan jam (0-23): \"))\n",
        "\n",
        "    # Tampilkan salam berdasarkan jam\n",
        "    salam = tampilkan_salam(jam_input)\n",
        "    print(f\"Jam {jam_input:02d}:00 → {salam}\")\n",
        "\n",
        "except ValueError:\n",
        "    print(\"Error: Harap masukkan angka yang valid!\")\n",
        "\n",
        "# Versi alternatif dengan validasi lebih lengkap\n",
        "print(\"\\n\" + \"=\"*50)\n",
        "print(\"=== PROGRAM ALTERNATIF ===\")\n",
        "\n",
        "def program_salam():\n",
        "    \"\"\"\n",
        "    Versi alternatif dengan validasi lengkap\n",
        "    \"\"\"\n",
        "    try:\n",
        "        jam = int(input(\"Masukkan jam (0-23): \"))\n",
        "\n",
        "        if jam < 0 or jam > 23:\n",
        "            print(\"Error: Jam harus antara 0-23!\")\n",
        "        else:\n",
        "            # Menentukan salam dengan if-elif-else\n",
        "            if jam <= 11:\n",
        "                salam = \"Selamat Pagi 🌅\"\n",
        "                waktu = \"Pagi\"\n",
        "            elif jam <= 15:\n",
        "                salam = \"Selamat Siang ☀️\"\n",
        "                waktu = \"Siang\"\n",
        "            elif jam <= 18:\n",
        "                salam = \"Selamat Sore 🌇\"\n",
        "                waktu = \"Sore\"\n",
        "            else:\n",
        "                salam = \"Selamat Malam 🌙\"\n",
        "                waktu = \"Malam\"\n",
        "\n",
        "            print(f\"Jam {jam:02d}:00 → {salam}\")\n",
        "            print(f\"Sekarang adalah waktu {waktu}\")\n",
        "\n",
        "    except ValueError:\n",
        "        print(\"Error: Input harus berupa angka!\")\n",
        "\n",
        "# Jalankan program alternatif\n",
        "program_salam()\n",
        "\n",
        "# Testing untuk semua kemungkinan jam\n",
        "print(\"\\n\" + \"=\"*50)\n",
        "print(\"=== TESTING SEMUA JAM ===\")\n",
        "\n",
        "print(\"Jam   | Salam\")\n",
        "print(\"-\" * 25)\n",
        "\n",
        "for jam in range(0, 24):\n",
        "    if 0 <= jam <= 11:\n",
        "        salam = \"Selamat Pagi\"\n",
        "    elif 12 <= jam <= 15:\n",
        "        salam = \"Selamat Siang\"\n",
        "    elif 16 <= jam <= 18:\n",
        "        salam = \"Selamat Sore\"\n",
        "    else:\n",
        "        salam = \"Selamat Malam\"\n",
        "\n",
        "    print(f\"{jam:02d}:00 | {salam}\")\n",
        "\n",
        "# Testing input tidak valid\n",
        "print(\"\\n\" + \"=\"*50)\n",
        "print(\"=== TESTING INPUT TIDAK VALID ===\")\n",
        "\n",
        "test_input = [-5, 25, 100, \"abc\"]\n",
        "\n",
        "for input_val in test_input:\n",
        "    if isinstance(input_val, int):\n",
        "        if 0 <= input_val <= 23:\n",
        "            salam = tampilkan_salam(input_val)\n",
        "            print(f\"Jam {input_val:02d}:00 → {salam}\")\n",
        "        else:\n",
        "            print(f\"Jam {input_val:02d} → Input tidak valid!\")"
      ],
      "metadata": {
        "id": "PkXV1vzKq_kY",
        "outputId": "628f2b9f-41cf-4ad3-b8dc-48a7a521599b",
        "colab": {
          "base_uri": "https://localhost:8080/"
        }
      },
      "execution_count": 22,
      "outputs": [
        {
          "output_type": "stream",
          "name": "stdout",
          "text": [
            "=== PROGRAM PENAMPIL SALAM ===\n",
            "Format jam: 0-23 (24-hour format)\n",
            "Masukkan jam (0-23): 8\n",
            "Jam 08:00 → Selamat Pagi 🌅\n",
            "\n",
            "==================================================\n",
            "=== PROGRAM ALTERNATIF ===\n",
            "Masukkan jam (0-23): 13\n",
            "Jam 13:00 → Selamat Siang ☀️\n",
            "Sekarang adalah waktu Siang\n",
            "\n",
            "==================================================\n",
            "=== TESTING SEMUA JAM ===\n",
            "Jam   | Salam\n",
            "-------------------------\n",
            "00:00 | Selamat Pagi\n",
            "01:00 | Selamat Pagi\n",
            "02:00 | Selamat Pagi\n",
            "03:00 | Selamat Pagi\n",
            "04:00 | Selamat Pagi\n",
            "05:00 | Selamat Pagi\n",
            "06:00 | Selamat Pagi\n",
            "07:00 | Selamat Pagi\n",
            "08:00 | Selamat Pagi\n",
            "09:00 | Selamat Pagi\n",
            "10:00 | Selamat Pagi\n",
            "11:00 | Selamat Pagi\n",
            "12:00 | Selamat Siang\n",
            "13:00 | Selamat Siang\n",
            "14:00 | Selamat Siang\n",
            "15:00 | Selamat Siang\n",
            "16:00 | Selamat Sore\n",
            "17:00 | Selamat Sore\n",
            "18:00 | Selamat Sore\n",
            "19:00 | Selamat Malam\n",
            "20:00 | Selamat Malam\n",
            "21:00 | Selamat Malam\n",
            "22:00 | Selamat Malam\n",
            "23:00 | Selamat Malam\n",
            "\n",
            "==================================================\n",
            "=== TESTING INPUT TIDAK VALID ===\n",
            "Jam -5 → Input tidak valid!\n",
            "Jam 25 → Input tidak valid!\n",
            "Jam 100 → Input tidak valid!\n"
          ]
        }
      ]
    },
    {
      "cell_type": "code",
      "source": [
        "# Pemerograman Dasar\n",
        "\n",
        "## Tugas\n",
        "\n",
        "print(\"=\" * 30)\n",
        "print(\"SELAMAT DATANG DI KATE GEMINI\")\n",
        "print(\"=\" * 90)\n",
        "print(\"Menu Makanan & Minuman:\")\n",
        "print(\"1. Kopi Hitam  - Rp 12.000\")\n",
        "print(\"2. Tin Manis  - Rp 8.000\")\n",
        "print(\"3. Roti Bakar  - Rp 15.000\")\n",
        "print(\"4. Mid Instan  - Rp 10.000\")\n",
        "print(\"=\" * 30)\n",
        "\n",
        "pilihan_str: str = input(\"Silahkan masukkan nomor pilihan Anda (1-4): \")\n",
        "pilihan: int = int(pilihan_str)\n",
        "nama_pesanan: str = \"\"\n",
        "harga: int = 0\n",
        "\n",
        "if pilihan == 1:\n",
        "    nama_pesanan = \"Kopi Hitam\"\n",
        "    harga = 12000\n",
        "    print(f\"Anda memesan {nama_pesanan} dengan harga Rp {harga}\")\n",
        "elif pilihan == 2:\n",
        "    nama_pesanan = \"Teh Manis\"\n",
        "    harga = 8000\n",
        "    print(f\"Anda memesan {nama_pesanan} dengan harga Rp {harga}\")\n",
        "elif pilihan == 3:\n",
        "    nama_pesanan = \"Roti Bakar\"\n",
        "    harga = 15000\n",
        "    print(f\"Anda memesan {nama_pesanan} dengan harga Rp {harga}\")\n",
        "elif pilihan == 4:\n",
        "    nama_pesanan = \"Mie Instan\"\n",
        "    harga = 10000\n",
        "    print(f\"Anda memesan {nama_pesanan} dengan harga Rp {harga}\")\n",
        "else:\n",
        "    print(\"Maaf, pilihan menu tidak valid. Silahkan jalankan ulang program.\")\n",
        "    exit()\n",
        "\n",
        "if harga > 0:\n",
        "    print(\"-\" * 30)\n",
        "\n",
        "    # Sistem diskon\n",
        "    print(\"Pilih Kategori Diskon:\")\n",
        "    print(\"1. Diskon 70%\")\n",
        "    print(\"2. Diskon 50%\")\n",
        "    print(\"3. Diskon 30%\")\n",
        "    print(\"4. Tanpa Diskon\")\n",
        "\n",
        "    diskon_pilihan_str: str = input(\"Masukkan pilihan diskon (1-4): \")\n",
        "    diskon_pilihan: int = int(diskon_pilihan_str)\n",
        "\n",
        "    diskon: float = 0.0\n",
        "    kategori_diskon: str = \"\"\n",
        "\n",
        "    if diskon_pilihan == 1:\n",
        "        diskon = 0.70  # 70%\n",
        "        kategori_diskon = \"70%\"\n",
        "    elif diskon_pilihan == 2:\n",
        "        diskon = 0.50  # 50%\n",
        "        kategori_diskon = \"50%\"\n",
        "    elif diskon_pilihan == 3:\n",
        "        diskon = 0.30  # 30%\n",
        "        kategori_diskon = \"30%\"\n",
        "    elif diskon_pilihan == 4:\n",
        "        diskon = 0.0   # Tanpa diskon\n",
        "        kategori_diskon = \"0%\"\n",
        "    else:\n",
        "        print(\"Pilihan diskon tidak valid. Menggunakan tanpa diskon.\")\n",
        "        diskon = 0.0\n",
        "        kategori_diskon = \"0%\"\n",
        "\n",
        "    # Hitung harga setelah diskon\n",
        "    harga_awal: int = harga\n",
        "    potongan: int = int(harga * diskon)\n",
        "    harga_setelah_diskon: int = harga_awal - potongan\n",
        "\n",
        "    print(f\"Harga awal: Rp {harga_awal}\")\n",
        "    print(f\"Diskon {kategori_diskon}: Rp {potongan}\")\n",
        "    print(f\"Total setelah diskon: Rp {harga_setelah_diskon}\")\n",
        "\n",
        "    print(\"-\" * 30)\n",
        "    uang_dibayar_str: str = input(f\"Total yang harus dibayar: Rp {harga_setelah_diskon}. Masukkan jumlah uang Anda: Rp \")\n",
        "    uang_dibayar: int = int(uang_dibayar_str)\n",
        "\n",
        "    if uang_dibayar >= harga_setelah_diskon:\n",
        "        kembalian: int = uang_dibayar - harga_setelah_diskon\n",
        "        print(\"--- Struk Pembayaran ---\")\n",
        "        print(f\"Pesanan Anda  : {nama_pesanan}\")\n",
        "        print(f\"Harga Awal    : Rp {harga_awal}\")\n",
        "        print(f\"Diskon        : {kategori_diskon} (Rp {potongan})\")\n",
        "        print(f\"Total Harga   : Rp {harga_setelah_diskon}\")\n",
        "        print(f\"Uang Pembayaran : Rp {uang_dibayar}\")\n",
        "        print(f\"Kembalian     : Rp {kembalian}\")\n",
        "        print(\"---\")\n",
        "        print(\"Terima kasih telah berbelanja!\")\n",
        "    else:\n",
        "        kekurangan: int = harga_setelah_diskon - uang_dibayar\n",
        "        print(f\"Maaf, uang Anda kurang sebesar Rp {kekurangan}.\")\n",
        "\n",
        "print(\"=\" * 30)"
      ],
      "metadata": {
        "id": "HF_3_0c4t5Ke",
        "outputId": "c273b5a1-30a1-4856-f69c-6d3a5fe0f2b5",
        "colab": {
          "base_uri": "https://localhost:8080/"
        }
      },
      "execution_count": 26,
      "outputs": [
        {
          "output_type": "stream",
          "name": "stdout",
          "text": [
            "==============================\n",
            "SELAMAT DATANG DI KATE GEMINI\n",
            "==========================================================================================\n",
            "Menu Makanan & Minuman:\n",
            "1. Kopi Hitam  - Rp 12.000\n",
            "2. Tin Manis  - Rp 8.000\n",
            "3. Roti Bakar  - Rp 15.000\n",
            "4. Mid Instan  - Rp 10.000\n",
            "==============================\n",
            "Silahkan masukkan nomor pilihan Anda (1-4): 3\n",
            "Anda memesan Roti Bakar dengan harga Rp 15000\n",
            "------------------------------\n",
            "Pilih Kategori Diskon:\n",
            "1. Diskon 70%\n",
            "2. Diskon 50%\n",
            "3. Diskon 30%\n",
            "4. Tanpa Diskon\n",
            "Masukkan pilihan diskon (1-4): 2\n",
            "Harga awal: Rp 15000\n",
            "Diskon 50%: Rp 7500\n",
            "Total setelah diskon: Rp 7500\n",
            "------------------------------\n",
            "Total yang harus dibayar: Rp 7500. Masukkan jumlah uang Anda: Rp 100000\n",
            "--- Struk Pembayaran ---\n",
            "Pesanan Anda  : Roti Bakar\n",
            "Harga Awal    : Rp 15000\n",
            "Diskon        : 50% (Rp 7500)\n",
            "Total Harga   : Rp 7500\n",
            "Uang Pembayaran : Rp 100000\n",
            "Kembalian     : Rp 92500\n",
            "---\n",
            "Terima kasih telah berbelanja!\n",
            "==============================\n"
          ]
        }
      ]
    },
    {
      "cell_type": "code",
      "source": [
        "print(\"=\" * 30)\n",
        "print(\"SELAMAT DATANG DI KAFE GEMINI\")\n",
        "print(\"=\" * 30)\n",
        "print(\"Menu Makanan & Minuman:\")\n",
        "print(\"1. Kopi Hitam  - Rp 12.000\")\n",
        "print(\"2. Teh Manis   - Rp 8.000\")\n",
        "print(\"3. Roti Bakar  - Rp 15.000\")\n",
        "print(\"4. Mie Instan  - Rp 10.000\")\n",
        "print(\"=\" * 30)\n",
        "\n",
        "pilihan_str: str = input(\"Silahkan masukkan nomor pilihan Anda (1-4): \")\n",
        "pilihan: int = int(pilihan_str)\n",
        "nama_pesanan: str = \"\"\n",
        "harga: int = 0\n",
        "\n",
        "if pilihan == 1:\n",
        "    nama_pesanan = \"Kopi Hitam\"\n",
        "    harga = 12000\n",
        "    print(f\"Anda memesan {nama_pesanan} dengan harga Rp {harga}\")\n",
        "elif pilihan == 2:\n",
        "    nama_pesanan = \"Teh Manis\"\n",
        "    harga = 8000\n",
        "    print(f\"Anda memesan {nama_pesanan} dengan harga Rp {harga}\")\n",
        "elif pilihan == 3:\n",
        "    nama_pesanan = \"Roti Bakar\"\n",
        "    harga = 15000\n",
        "    print(f\"Anda memesan {nama_pesanan} dengan harga Rp {harga}\")\n",
        "elif pilihan == 4:\n",
        "    nama_pesanan = \"Mie Instan\"\n",
        "    harga = 10000\n",
        "    print(f\"Anda memesan {nama_pesanan} dengan harga Rp {harga}\")\n",
        "else:\n",
        "    print(\"Maaf, pilihan menu tidak valid. Silahkan jalankan ulang program.\")\n",
        "    exit()\n",
        "\n",
        "if harga > 0:\n",
        "    print(\"-\" * 30)\n",
        "\n",
        "    # Sistem diskon berdasarkan total belanja\n",
        "    print(\"SISTEM DISKON:\")\n",
        "    print(\"- Total belanja >= Rp 30.000 : Diskon 70%\")\n",
        "    print(\"- Total belanja >= Rp 20.000 : Diskon 50%\")\n",
        "    print(\"- Total belanja >= Rp 15.000 : Diskon 30%\")\n",
        "    print(\"- Total belanja <  Rp 15.000 : Tidak ada diskon\")\n",
        "    print(\"-\" * 30)\n",
        "\n",
        "    # Menentukan diskon berdasarkan harga\n",
        "    diskon: float = 0.0\n",
        "    kategori_diskon: str = \"0%\"\n",
        "\n",
        "    if harga >= 30000:\n",
        "        diskon = 0.70  # 70%\n",
        "        kategori_diskon = \"70%\"\n",
        "    elif harga >= 20000:\n",
        "        diskon = 0.50  # 50%\n",
        "        kategori_diskon = \"50%\"\n",
        "    elif harga >= 15000:\n",
        "        diskon = 0.30  # 30%\n",
        "        kategori_diskon = \"30%\"\n",
        "    else:\n",
        "        diskon = 0.0   # Tanpa diskon\n",
        "        kategori_diskon = \"0%\"\n",
        "\n",
        "    # Hitung harga setelah diskon\n",
        "    harga_awal: int = harga\n",
        "    potongan: int = int(harga * diskon)\n",
        "    harga_setelah_diskon: int = harga_awal - potongan\n",
        "\n",
        "    print(f\"Harga awal  : Rp {harga_awal}\")\n",
        "    if diskon > 0:\n",
        "        print(f\"Diskon {kategori_diskon} : Rp {potongan}\")\n",
        "    print(f\"Total bayar : Rp {harga_setelah_diskon}\")\n",
        "\n",
        "    print(\"-\" * 30)\n",
        "    uang_dibayar_str: str = input(f\"Masukkan jumlah uang Anda: Rp \")\n",
        "    uang_dibayar: int = int(uang_dibayar_str)\n",
        "\n",
        "    if uang_dibayar >= harga_setelah_diskon:\n",
        "        kembalian: int = uang_dibayar - harga_setelah_diskon\n",
        "        print(\"--- Struk Pembayaran ---\")\n",
        "        print(f\"Pesanan Anda     : {nama_pesanan}\")\n",
        "        print(f\"Harga Awal       : Rp {harga_awal}\")\n",
        "        if diskon > 0:\n",
        "            print(f\"Diskon           : {kategori_diskon} (Rp {potongan})\")\n",
        "        print(f\"Total Harga      : Rp {harga_setelah_diskon}\")\n",
        "        print(f\"Uang Pembayaran  : Rp {uang_dibayar}\")\n",
        "        print(f\"Kembalian        : Rp {kembalian}\")\n",
        "        print(\"---\")\n",
        "        print(\"Terima kasih telah berbelanja!\")\n",
        "    else:\n",
        "        kekurangan: int = harga_setelah_diskon - uang_dibayar\n",
        "        print(f\"Maaf, uang Anda kurang sebesar Rp {kekurangan}.\")\n",
        "\n",
        "print(\"=\" * 30)"
      ],
      "metadata": {
        "id": "6LqJenAXveR5",
        "outputId": "18d0587c-86de-4be4-f74c-4d4c39491cb2",
        "colab": {
          "base_uri": "https://localhost:8080/"
        }
      },
      "execution_count": 28,
      "outputs": [
        {
          "output_type": "stream",
          "name": "stdout",
          "text": [
            "==============================\n",
            "SELAMAT DATANG DI KAFE GEMINI\n",
            "==============================\n",
            "Menu Makanan & Minuman:\n",
            "1. Kopi Hitam  - Rp 12.000\n",
            "2. Teh Manis   - Rp 8.000\n",
            "3. Roti Bakar  - Rp 15.000\n",
            "4. Mie Instan  - Rp 10.000\n",
            "==============================\n",
            "Silahkan masukkan nomor pilihan Anda (1-4): 3\n",
            "Anda memesan Roti Bakar dengan harga Rp 15000\n",
            "------------------------------\n",
            "SISTEM DISKON:\n",
            "- Total belanja >= Rp 30.000 : Diskon 70%\n",
            "- Total belanja >= Rp 20.000 : Diskon 50%\n",
            "- Total belanja >= Rp 15.000 : Diskon 30%\n",
            "- Total belanja <  Rp 15.000 : Tidak ada diskon\n",
            "------------------------------\n",
            "Harga awal  : Rp 15000\n",
            "Diskon 30% : Rp 4500\n",
            "Total bayar : Rp 10500\n",
            "------------------------------\n",
            "Masukkan jumlah uang Anda: Rp 100000\n",
            "--- Struk Pembayaran ---\n",
            "Pesanan Anda     : Roti Bakar\n",
            "Harga Awal       : Rp 15000\n",
            "Diskon           : 30% (Rp 4500)\n",
            "Total Harga      : Rp 10500\n",
            "Uang Pembayaran  : Rp 100000\n",
            "Kembalian        : Rp 89500\n",
            "---\n",
            "Terima kasih telah berbelanja!\n",
            "==============================\n"
          ]
        }
      ]
    }
  ]
}