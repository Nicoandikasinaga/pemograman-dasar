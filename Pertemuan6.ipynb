{
  "nbformat": 4,
  "nbformat_minor": 0,
  "metadata": {
    "colab": {
      "provenance": [],
      "authorship_tag": "ABX9TyNb+qq1nOa3nrZmXlF+lu1a",
      "include_colab_link": true
    },
    "kernelspec": {
      "name": "python3",
      "display_name": "Python 3"
    },
    "language_info": {
      "name": "python"
    }
  },
  "cells": [
    {
      "cell_type": "markdown",
      "metadata": {
        "id": "view-in-github",
        "colab_type": "text"
      },
      "source": [
        "<a href=\"https://colab.research.google.com/github/Nicoandikasinaga/pemograman-dasar/blob/main/Pertemuan6.ipynb\" target=\"_parent\"><img src=\"https://colab.research.google.com/assets/colab-badge.svg\" alt=\"Open In Colab\"/></a>"
      ]
    },
    {
      "cell_type": "code",
      "execution_count": 1,
      "metadata": {
        "colab": {
          "base_uri": "https://localhost:8080/"
        },
        "id": "OuBGw5HvMUCs",
        "outputId": "c5df306a-2bfe-4e23-a55f-6eafc691a387"
      },
      "outputs": [
        {
          "output_type": "stream",
          "name": "stdout",
          "text": [
            "Sistem siap. Selamat datang kembali di sesi praktikum.\n",
            "\n",
            "=== Nico Andika Sinaga ===\n",
            "Nama panggilan: Nik\n",
            "Status: Mahasiswa\n",
            "Pekerjaan: Membuat program\n",
            "Kemampuan:\n",
            "  - Memasak Nasi\n",
            "  - Memasak air panas\n",
            "  - Memasak Mie\n",
            "  - Mencuci Pakaian\n",
            "Status: Single\n",
            "=======================\n",
            "\n"
          ]
        }
      ],
      "source": [
        "# SOAL 1: Fungsi Inisialisasi Sederhana\n",
        "def sapa_praktikan():\n",
        "    \"\"\"Mencetak pesan sambutan dasar.\"\"\"\n",
        "    print(\"Sistem siap. Selamat datang kembali di sesi praktikum.\")\n",
        "\n",
        "# Fungsi Biodata Lengkap\n",
        "def Biodata():\n",
        "    \"\"\"Menampilkan biodata lengkap.\"\"\"\n",
        "    print(\"\\n=== Nico Andika Sinaga ===\")\n",
        "    print(\"Nama panggilan: Nik\")\n",
        "    print(\"Status: Mahasiswa\")\n",
        "    print(\"Pekerjaan: Membuat program\")\n",
        "    print(\"Kemampuan:\")\n",
        "    print(\"  - Memasak Nasi\")\n",
        "    print(\"  - Memasak air panas\")\n",
        "    print(\"  - Memasak Mie\")\n",
        "    print(\"  - Mencuci Pakaian\")\n",
        "    print(\"Status: Single\")\n",
        "    print(\"=======================\\n\")\n",
        "\n",
        "# Pemanggilan:\n",
        "sapa_praktikan()\n",
        "Biodata()"
      ]
    },
    {
      "cell_type": "code",
      "source": [
        "# SOAL 2: Menghitung Volume Kubus\n",
        "def hitung_volume_kubus(sisi):\n",
        "    \"\"\"Menghitung volume kubus dari panjang sisinya.\"\"\"\n",
        "    return sisi ** 3\n",
        "\n",
        "# Fungsi untuk menghitung volume balok\n",
        "def hitung_volume_balok(panjang, lebar, tinggi):\n",
        "    \"\"\"Menghitung volume balok dari panjang, lebar, dan tinggi.\"\"\"\n",
        "    return panjang * lebar * tinggi\n",
        "\n",
        "# Pemanggilan:\n",
        "panjang_sisi = 5\n",
        "print(f\"Volume kubus dengan sisi {panjang_sisi} adalah: {hitung_volume_kubus(panjang_sisi)}\")\n",
        "\n",
        "# Pemanggilan fungsi volume balok\n",
        "panjang = 6\n",
        "lebar = 4\n",
        "tinggi = 3\n",
        "print(f\"Volume balok dengan panjang {panjang}, lebar {lebar}, tinggi {tinggi} adalah: {hitung_volume_balok(panjang, lebar, tinggi)}\")"
      ],
      "metadata": {
        "colab": {
          "base_uri": "https://localhost:8080/"
        },
        "id": "TUQqGiTQNgql",
        "outputId": "812f0a25-5c64-4404-cdd5-392a53c10a2a"
      },
      "execution_count": 2,
      "outputs": [
        {
          "output_type": "stream",
          "name": "stdout",
          "text": [
            "Volume kubus dengan sisi 5 adalah: 125\n",
            "Volume balok dengan panjang 6, lebar 4, tinggi 3 adalah: 72\n"
          ]
        }
      ]
    },
    {
      "cell_type": "code",
      "source": [
        "# SOAL 3: Menghitung Rata-rata dari List Nilai\n",
        "def hitung_rata_rata(data_nilai):\n",
        "    \"\"\"Menghitung rata-rata dari list angka menggunakan perulangan for.\"\"\"\n",
        "    total = 0\n",
        "    jumlah_nilai_valid = 0\n",
        "\n",
        "    # Perulangan untuk menjumlahkan nilai dengan pengecekan\n",
        "    for nilai in data_nilai:\n",
        "        # Pengecekan menggunakan percabangan if\n",
        "        if nilai < 0:\n",
        "            print(f\"Peringatan: Nilai {nilai} diabaikan (nilai negatif)\")\n",
        "            continue  # Mengabaikan nilai negatif\n",
        "        elif nilai > 100:\n",
        "            print(f\"Peringatan: Nilai {nilai} dikenai penalti (melebihi 100)\")\n",
        "            total += 80  # Penalti: nilai di atas 100 diubah menjadi 80\n",
        "            jumlah_nilai_valid += 1\n",
        "        else:\n",
        "            total += nilai\n",
        "            jumlah_nilai_valid += 1\n",
        "\n",
        "    # Pembagian untuk rata-rata\n",
        "    if jumlah_nilai_valid > 0:\n",
        "        return total / jumlah_nilai_valid\n",
        "    return 0\n",
        "\n",
        "# Pemanggilan:\n",
        "nilai_praktikan = [85, 78, 92, 65, 90, 105, -5]  # Ditambah nilai tidak valid untuk testing\n",
        "print(f\"Nilai rata-rata kelas adalah: {hitung_rata_rata(nilai_praktikan)}\")"
      ],
      "metadata": {
        "colab": {
          "base_uri": "https://localhost:8080/"
        },
        "id": "uDwaJteVQg_O",
        "outputId": "8d4ad94d-24a0-4de8-aaa3-a5a7717e64c2"
      },
      "execution_count": 5,
      "outputs": [
        {
          "output_type": "stream",
          "name": "stdout",
          "text": [
            "Peringatan: Nilai 105 dikenai penalti (melebihi 100)\n",
            "Peringatan: Nilai -5 diabaikan (nilai negatif)\n",
            "Nilai rata-rata kelas adalah: 81.66666666666667\n"
          ]
        }
      ]
    },
    {
      "cell_type": "code",
      "source": [
        "# SOAL 4: Sistem Penentuan Predikat Nilai\n",
        "def tentukan_predikat(skor):\n",
        "    \"\"\"Menentukan predikat (A, B, C, D, E) berdasarkan skor.\"\"\"\n",
        "    if skor >= 85:\n",
        "        return \"A\"\n",
        "    elif skor >= 70:\n",
        "        return \"B\"\n",
        "    elif skor >= 60:\n",
        "        return \"C\"\n",
        "    elif skor >= 50:\n",
        "        return \"D\"\n",
        "    else:\n",
        "        return \"E\"\n",
        "\n",
        "# Fungsi modifikasi dengan pengecekan tipe data\n",
        "def tentukan_predikat_modifikasi(skor):\n",
        "    \"\"\"Menentukan predikat dengan pengecekan tipe data input.\"\"\"\n",
        "    # Pengecekan tipe data\n",
        "    if not isinstance(skor, (int, float)):\n",
        "        return \"Error: Input harus numerik (int/float)\"\n",
        "\n",
        "    # Pengecekan range nilai\n",
        "    if skor < 0 or skor > 100:\n",
        "        return \"Error: Skor harus antara 0-100\"\n",
        "\n",
        "    # Logika penentuan predikat\n",
        "    if skor >= 85:\n",
        "        return \"A\"\n",
        "    elif skor >= 70:\n",
        "        return \"B\"\n",
        "    elif skor >= 60:\n",
        "        return \"C\"\n",
        "    elif skor >= 50:\n",
        "        return \"D\"\n",
        "    else:\n",
        "        return \"E\"\n",
        "\n",
        "# Pemanggilan:\n",
        "print(f\"Skor 75 mendapat predikat: {tentukan_predikat(75)}\")\n",
        "print(f\"Skor 45 mendapat predikat: {tentukan_predikat(45)}\")\n",
        "print(f\"Skor 58 mendapat predikat: {tentukan_predikat(58)}\")\n",
        "print(f\"Skor 90 mendapat predikat: {tentukan_predikat_modifikasi(90)}\")\n",
        "print(f\"Skor 68 mendapat predikat: {tentukan_predikat_modifikasi(68)}\")\n",
        "print(f\"Skor 110 mendapat predikat: {tentukan_predikat_modifikasi(110)}\")\n",
        "print(f\"Skor 'tujuh puluh' mendapat predikat: {tentukan_predikat_modifikasi('tujuh puluh')}\")"
      ],
      "metadata": {
        "colab": {
          "base_uri": "https://localhost:8080/"
        },
        "id": "PEKi3lghRFgx",
        "outputId": "aa54b51b-7dbc-474c-e1f8-2183b2ea8d9b"
      },
      "execution_count": 8,
      "outputs": [
        {
          "output_type": "stream",
          "name": "stdout",
          "text": [
            "Skor 75 mendapat predikat: B\n",
            "Skor 45 mendapat predikat: E\n",
            "Skor 58 mendapat predikat: D\n",
            "Skor 90 mendapat predikat: A\n",
            "Skor 68 mendapat predikat: C\n",
            "Skor 110 mendapat predikat: Error: Skor harus antara 0-100\n",
            "Skor 'tujuh puluh' mendapat predikat: Error: Input harus numerik (int/float)\n"
          ]
        }
      ]
    },
    {
      "cell_type": "code",
      "source": [
        "# SOAL 5: Menghitung Faktorial dengan Loop While\n",
        "def hitung_faktorial(n):\n",
        "    \"\"\"Menghitung faktorial dari bilangan positif n.\"\"\"\n",
        "    hasil = 1\n",
        "\n",
        "    # Perulangan berjalan selama n lebih besar dari 1\n",
        "    while n > 1:\n",
        "        hasil *= n\n",
        "        n -= 1  # Kurangi n\n",
        "    return hasil\n",
        "\n",
        "# Fungsi modifikasi dengan penanganan kasus khusus\n",
        "def hitung_faktorial_modifikasi(n):\n",
        "    \"\"\"Menghitung faktorial dengan penanganan kasus khusus.\"\"\"\n",
        "    # Penanganan kasus khusus\n",
        "    if not isinstance(n, int):\n",
        "        return \"Error: Input harus bilangan bulat\"\n",
        "    elif n < 0:\n",
        "        return \"Error: Faktorial tidak terdefinisi untuk bilangan negatif\"\n",
        "    elif n == 0 or n == 1:\n",
        "        return 1\n",
        "\n",
        "    hasil = 1\n",
        "\n",
        "    # Perulangan berjalan selama n lebih besar dari 1\n",
        "    while n > 1:\n",
        "        hasil *= n\n",
        "        n -= 1  # Kurangi n\n",
        "    return hasil\n",
        "\n",
        "# Pemanggilan:\n",
        "bilangan_n = 4\n",
        "print(f\"Faktorial dari {bilangan_n} adalah: {hitung_faktorial(bilangan_n)}\")\n",
        "\n",
        "# Pemanggilan fungsi modifikasi\n",
        "print(f\"Faktorial dari 0 adalah: {hitung_faktorial_modifikasi(0)}\")\n",
        "print(f\"Faktorial dari 1 adalah: {hitung_faktorial_modifikasi(1)}\")\n",
        "print(f\"Faktorial dari 5 adalah: {hitung_faktorial_modifikasi(5)}\")\n",
        "print(f\"Faktorial dari -5 adalah: {hitung_faktorial_modifikasi(-5)}\")\n",
        "print(f\"Faktorial dari 2.5 adalah: {hitung_faktorial_modifikasi(2.5)}\")"
      ],
      "metadata": {
        "colab": {
          "base_uri": "https://localhost:8080/"
        },
        "id": "KNe2YnwKTQE8",
        "outputId": "b512ec60-d9c0-4d0d-a4ec-c23dd48fa4ba"
      },
      "execution_count": 11,
      "outputs": [
        {
          "output_type": "stream",
          "name": "stdout",
          "text": [
            "Faktorial dari 4 adalah: 24\n",
            "Faktorial dari 0 adalah: 1\n",
            "Faktorial dari 1 adalah: 1\n",
            "Faktorial dari 5 adalah: 120\n",
            "Faktorial dari -5 adalah: Error: Faktorial tidak terdefinisi untuk bilangan negatif\n",
            "Faktorial dari 2.5 adalah: Error: Input harus bilangan bulat\n"
          ]
        }
      ]
    },
    {
      "cell_type": "code",
      "source": [
        "# SOAL 6: Analisis Data Suhu Ekstrem (for dan if/elif)\n",
        "def analisis_suhu(data_suhu):\n",
        "    \"\"\"Menghitung jumlah hari Panas dan Dingin dari data_suhu.\"\"\"\n",
        "    panas_count = 0\n",
        "    dingin_count = 0\n",
        "\n",
        "    for suhu in data_suhu:\n",
        "        if suhu >= 35:\n",
        "            panas_count += 1\n",
        "        elif suhu <= 15:\n",
        "            dingin_count += 1\n",
        "\n",
        "    return panas_count, dingin_count\n",
        "\n",
        "# Fungsi modifikasi dengan parameter opsional\n",
        "def analisis_suhu_modifikasi(data_suhu, batas_panas=35, batas_dingin=15):\n",
        "    \"\"\"Menghitung jumlah hari Panas dan Dingin dengan batas yang dapat disesuaikan.\"\"\"\n",
        "    panas_count = 0\n",
        "    dingin_count = 0\n",
        "\n",
        "    for suhu in data_suhu:\n",
        "        if suhu >= batas_panas:\n",
        "            panas_count += 1\n",
        "        elif suhu <= batas_dingin:\n",
        "            dingin_count += 1\n",
        "\n",
        "    return panas_count, dingin_count\n",
        "\n",
        "# Pemanggilan fungsi modifikasi\n",
        "print(\"\\n--- Dengan Batas Default ---\")\n",
        "jumlah_panas1, jumlah_dingin1 = analisis_suhu_modifikasi(suhu_mingguan)\n",
        "print(f\"Jumlah hari Panas (>=36°C): {jumlah_panas1}\")\n",
        "print(f\"Jumlah hari Dingin (<=16°C): {jumlah_dingin1}\")\n",
        "\n",
        "print(\"\\n--- Dengan Batas Kustom ---\")\n",
        "jumlah_panas2, jumlah_dingin2 = analisis_suhu_modifikasi(suhu_mingguan, batas_panas=30, batas_dingin=20)\n",
        "print(f\"Jumlah hari Panas (>=30°C): {jumlah_panas2}\")\n",
        "print(f\"Jumlah hari Dingin (<=20°C): {jumlah_dingin2}\")\n",
        "\n",
        "print(\"\\n--- Dengan Batas Kustom Lainnya ---\")\n",
        "jumlah_panas3, jumlah_dingin3 = analisis_suhu_modifikasi(suhu_mingguan, batas_panas=38, batas_dingin=10)\n",
        "print(f\"Jumlah hari Panas (>=38°C): {jumlah_panas3}\")\n",
        "print(f\"Jumlah hari Dingin (<=10°C): {jumlah_dingin3}\")"
      ],
      "metadata": {
        "colab": {
          "base_uri": "https://localhost:8080/"
        },
        "id": "VZkkerOpW6TH",
        "outputId": "2a3c2fe8-3b5f-43ac-d0c0-4a9b8c057b74"
      },
      "execution_count": 17,
      "outputs": [
        {
          "output_type": "stream",
          "name": "stdout",
          "text": [
            "\n",
            "--- Dengan Batas Default ---\n",
            "Jumlah hari Panas (>=36°C): 2\n",
            "Jumlah hari Dingin (<=16°C): 1\n",
            "\n",
            "--- Dengan Batas Kustom ---\n",
            "Jumlah hari Panas (>=30°C): 3\n",
            "Jumlah hari Dingin (<=20°C): 2\n",
            "\n",
            "--- Dengan Batas Kustom Lainnya ---\n",
            "Jumlah hari Panas (>=38°C): 1\n",
            "Jumlah hari Dingin (<=10°C): 0\n"
          ]
        }
      ]
    }
  ]
}