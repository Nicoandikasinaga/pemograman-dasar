{
  "nbformat": 4,
  "nbformat_minor": 0,
  "metadata": {
    "colab": {
      "provenance": [],
      "include_colab_link": true
    },
    "kernelspec": {
      "name": "python3",
      "display_name": "Python 3"
    },
    "language_info": {
      "name": "python"
    }
  },
  "cells": [
    {
      "cell_type": "markdown",
      "metadata": {
        "id": "view-in-github",
        "colab_type": "text"
      },
      "source": [
        "<a href=\"https://colab.research.google.com/github/Nicoandikasinaga/pemograman-dasar/blob/main/pertemuan%202.ipynb\" target=\"_parent\"><img src=\"https://colab.research.google.com/assets/colab-badge.svg\" alt=\"Open In Colab\"/></a>"
      ]
    },
    {
      "cell_type": "code",
      "execution_count": 1,
      "metadata": {
        "id": "LFe26eTuZf6N",
        "colab": {
          "base_uri": "https://localhost:8080/"
        },
        "outputId": "96ab641f-e1cc-4a4f-abfe-60d51dc2dc0d"
      },
      "outputs": [
        {
          "output_type": "stream",
          "name": "stdout",
          "text": [
            "23\n",
            "43\n",
            "15\n",
            "54\n",
            "[23, 43, 15, 54]\n"
          ]
        }
      ],
      "source": [
        "# deklarasi variable list\n",
        "numbers = [23, 43, 15, 54]\n",
        "# cara mengakses elemen dalam variable list\n",
        "numbers[0] # 23\n",
        "numbers[1] # 43\n",
        "numbers[2] # 15\n",
        "numbers[3] # 54\n",
        "# cara mengubah nilai elemen dalam variable list\n",
        "numbers[2] # 51\n",
        "numbers[2] # 51\n",
        "\n",
        "print (numbers [0])\n",
        "print (numbers [1])\n",
        "print (numbers [2])\n",
        "print (numbers [3])\n",
        "print (numbers)"
      ]
    },
    {
      "cell_type": "code",
      "source": [
        "# deklarasi variabel list\n",
        "mylist = [1, \"rumah\" ,4.5, True, [\"kamar mandi\", \"kamar tidur\"]]\n",
        "\n",
        "# cara mengakses elemen dalam varibel list\n",
        "mylist[0]  # 1\n",
        "mylist[1]  # \"rumah\"\n",
        "mylist[3]  # \"True\"\n",
        "mylist[4]  # [\"kamar mandi\", \"kamar tidur\"]\n",
        "\n",
        "# cara mengakses elemen dalam sublist\n",
        "mylist[4][0]  # \"kamar mandi\"\n",
        "mylist[4][1]  # \"kamar tidur\"\n",
        "\n",
        "print (mylist [0])\n",
        "print (mylist [1])\n",
        "print (mylist [3])\n",
        "print (mylist [4])\n",
        "print (mylist)"
      ],
      "metadata": {
        "colab": {
          "base_uri": "https://localhost:8080/"
        },
        "id": "U_gkGZNWX3qC",
        "outputId": "6f67e9a4-3bf7-4e8b-fe80-9c88cd6dc790"
      },
      "execution_count": null,
      "outputs": [
        {
          "output_type": "stream",
          "name": "stdout",
          "text": [
            "1\n",
            "rumah\n",
            "True\n",
            "['kamar mandi', 'kamar tidur']\n",
            "[1, 'rumah', 4.5, True, ['kamar mandi', 'kamar tidur']]\n"
          ]
        }
      ]
    }
  ]
}