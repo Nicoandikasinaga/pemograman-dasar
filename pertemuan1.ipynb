{
  "nbformat": 4,
  "nbformat_minor": 0,
  "metadata": {
    "colab": {
      "provenance": [],
      "authorship_tag": "ABX9TyN1v+V7xf2LgrtG9pAWLe6K",
      "include_colab_link": true
    },
    "kernelspec": {
      "name": "python3",
      "display_name": "Python 3"
    },
    "language_info": {
      "name": "python"
    }
  },
  "cells": [
    {
      "cell_type": "markdown",
      "metadata": {
        "id": "view-in-github",
        "colab_type": "text"
      },
      "source": [
        "<a href=\"https://colab.research.google.com/github/Nicoandikasinaga/pemograman-dasar/blob/main/pertemuan1.ipynb\" target=\"_parent\"><img src=\"https://colab.research.google.com/assets/colab-badge.svg\" alt=\"Open In Colab\"/></a>"
      ]
    },
    {
      "cell_type": "code",
      "source": [
        "nama = \"Nico\"\n",
        "umur = \"19\"\n",
        "jurusan = \"RPE\"\n",
        "semester = 3\n",
        "matakuliah = \"Pemograman dasar\"\n",
        "status_lulus = False\n",
        "\n",
        "\n",
        "print  (nama)\n",
        "print  (umur)\n",
        "print  (jurusan)\n",
        "print  (semester)\n",
        "print  (matakuliah)\n",
        "print  (status_lulus)\n"
      ],
      "metadata": {
        "colab": {
          "base_uri": "https://localhost:8080/"
        },
        "id": "mIKqpV2QXtWx",
        "outputId": "30b6c05a-bf3b-4516-e000-ce44cb8bd3eb"
      },
      "execution_count": 13,
      "outputs": [
        {
          "output_type": "stream",
          "name": "stdout",
          "text": [
            "Nico\n",
            "19\n",
            "RPE\n",
            "3\n",
            "Pemograman dasar\n",
            "False\n"
          ]
        }
      ]
    }
  ]
}